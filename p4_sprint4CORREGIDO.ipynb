{
 "cells": [
  {
   "cell_type": "markdown",
   "id": "adc5f50e",
   "metadata": {},
   "source": [
    "# Hola Stephania!\n",
    "\n",
    "Mi nombre es David Bautista, soy code reviewer de TripleTen y voy a revisar el proyecto que acabas de desarrollar.\n",
    "\n",
    "Cuando vea un error la primera vez, lo señalaré. Deberás encontrarlo y arreglarlo. La intención es que te prepares para un espacio real de trabajo. En un trabajo, el líder de tu equipo hará lo mismo. Si no puedes solucionar el error, te daré más información en la próxima ocasión.\n",
    "\n",
    "Encontrarás mis comentarios más abajo - **por favor, no los muevas, no los modifiques ni los borres.**\n",
    "\n",
    "¿Cómo lo voy a hacer? Voy a leer detenidamente cada una de las implementaciones que has llevado a cabo para cumplir con lo solicitado. Verás los comentarios de esta forma:\n",
    "\n",
    "<div class=\"alert alert-block alert-success\">\n",
    "<b>Comentario del revisor</b> <a class=\"tocSkip\"></a>\n",
    "    \n",
    "Si todo está perfecto.\n",
    "</div>\n",
    "\n",
    "\n",
    "<div class=\"alert alert-block alert-warning\">\n",
    "<b>Comentario del revisor</b> <a class=\"tocSkip\"></a>\n",
    "    \n",
    "Si tu código está bien pero se puede mejorar o hay algún detalle que le hace falta.\n",
    "</div>\n",
    "\n",
    "\n",
    "<div class=\"alert alert-block alert-danger\">\n",
    "    \n",
    "<b>Comentario del revisor</b> <a class=\"tocSkip\"></a>\n",
    "    \n",
    "    \n",
    "Si de pronto hace falta algo o existe algún problema con tu código o conclusiones.\n",
    "</div>\n",
    "\n",
    "\n",
    "Puedes responderme de esta forma: \n",
    "\n",
    "<div class=\"alert alert-block alert-info\">\n",
    "<b>Respuesta del estudiante</b> <a class=\"tocSkip\"></a>\n",
    "</div>\n",
    "\n",
    "¡Empecemos!"
   ]
  },
  {
   "cell_type": "markdown",
   "id": "37c34753",
   "metadata": {},
   "source": [
    "<div class=\"alert alert-block alert-danger\">\n",
    "<b>Comentario del revisor </b> <a class=\"tocSkip\"></a>\n",
    "\n",
    "# Comentario General\n",
    "\n",
    "~~Hola, Stephania , te felicito por el desarrollo del ejercicio hasta el momento. Ahora bien, he dejado diferentes comentarios para que los puedas revisar y tener en cuenta para la siguiente entrega.~~ </div> \n",
    "\n",
    "<div class=\"alert alert-block alert-success\">\n",
    "<b>Comentario del revisor </b> <a class=\"tocSkip\"></a>\n",
    "\n",
    "# Comentario General #2\n",
    "\n",
    "Hola, Stephania , te felicito por la culminación del proyecto. Muy buen trabajo. </div> "
   ]
  },
  {
   "cell_type": "markdown",
   "id": "3Xg_RQfnafXz",
   "metadata": {
    "id": "3Xg_RQfnafXz"
   },
   "source": [
    "# ¡Llena ese carrito!"
   ]
  },
  {
   "cell_type": "markdown",
   "id": "mhIvmmkW414q",
   "metadata": {
    "id": "mhIvmmkW414q"
   },
   "source": [
    "# Introducción\n",
    "\n",
    "Instacart es una plataforma de entregas de comestibles donde la clientela puede registrar un pedido y hacer que se lo entreguen, similar a Uber Eats y Door Dash.\n",
    "El conjunto de datos que te hemos proporcionado tiene modificaciones del original. Redujimos el tamaño del conjunto para que tus cálculos se hicieran más rápido e introdujimos valores ausentes y duplicados. Tuvimos cuidado de conservar las distribuciones de los datos originales cuando hicimos los cambios.\n",
    "\n",
    "Debes completar tres pasos. Para cada uno de ellos, escribe una breve introducción que refleje con claridad cómo pretendes resolver cada paso, y escribe párrafos explicatorios que justifiquen tus decisiones al tiempo que avanzas en tu solución.  También escribe una conclusión que resuma tus hallazgos y elecciones.\n"
   ]
  },
  {
   "cell_type": "markdown",
   "id": "3MbyzpOQZ5Or",
   "metadata": {
    "id": "3MbyzpOQZ5Or"
   },
   "source": [
    "## Diccionario de datos\n",
    "\n",
    "Hay cinco tablas en el conjunto de datos, y tendrás que usarlas todas para hacer el preprocesamiento de datos y el análisis exploratorio de datos. A continuación se muestra un diccionario de datos que enumera las columnas de cada tabla y describe los datos que contienen.\n",
    "\n",
    "- `instacart_orders.csv`: cada fila corresponde a un pedido en la aplicación Instacart.\n",
    "    - `'order_id'`: número de ID que identifica de manera única cada pedido.\n",
    "    - `'user_id'`: número de ID que identifica de manera única la cuenta de cada cliente.\n",
    "    - `'order_number'`: el número de veces que este cliente ha hecho un pedido.\n",
    "    - `'order_dow'`: día de la semana en que se hizo el pedido (0 si es domingo).\n",
    "    - `'order_hour_of_day'`: hora del día en que se hizo el pedido.\n",
    "    - `'days_since_prior_order'`: número de días transcurridos desde que este cliente hizo su pedido anterior.\n",
    "- `products.csv`: cada fila corresponde a un producto único que pueden comprar los clientes.\n",
    "    - `'product_id'`: número ID que identifica de manera única cada producto.\n",
    "    - `'product_name'`: nombre del producto.\n",
    "    - `'aisle_id'`: número ID que identifica de manera única cada categoría de pasillo de víveres.\n",
    "    - `'department_id'`: número ID que identifica de manera única cada departamento de víveres.\n",
    "- `order_products.csv`: cada fila corresponde a un artículo pedido en un pedido.\n",
    "    - `'order_id'`: número de ID que identifica de manera única cada pedido.\n",
    "    - `'product_id'`: número ID que identifica de manera única cada producto.\n",
    "    - `'add_to_cart_order'`: el orden secuencial en el que se añadió cada artículo en el carrito.\n",
    "    - `'reordered'`: 0 si el cliente nunca ha pedido este producto antes, 1 si lo ha pedido.\n",
    "- `aisles.csv`\n",
    "    - `'aisle_id'`: número ID que identifica de manera única cada categoría de pasillo de víveres.\n",
    "    - `'aisle'`: nombre del pasillo.\n",
    "- `departments.csv`\n",
    "    - `'department_id'`: número ID que identifica de manera única cada departamento de víveres.\n",
    "    - `'department'`: nombre del departamento."
   ]
  },
  {
   "cell_type": "markdown",
   "id": "n3Ha_cNSZ8lK",
   "metadata": {
    "id": "n3Ha_cNSZ8lK"
   },
   "source": [
    "# Paso 1. Descripción de los datos\n",
    "\n",
    "Lee los archivos de datos (`/datasets/instacart_orders.csv`, `/datasets/products.csv`, `/datasets/aisles.csv`, `/datasets/departments.csv` y `/datasets/order_products.csv`) con `pd.read_csv()` usando los parámetros adecuados para leer los datos correctamente. Verifica la información para cada DataFrame creado.\n"
   ]
  },
  {
   "cell_type": "markdown",
   "id": "OmlQPLlyaAfR",
   "metadata": {
    "id": "OmlQPLlyaAfR"
   },
   "source": [
    "## Plan de solución\n",
    "\n",
    "Escribe aquí tu plan de solución para el Paso 1. Descripción de los datos."
   ]
  },
  {
   "cell_type": "code",
   "execution_count": 7,
   "id": "fbf1adab",
   "metadata": {
    "id": "fbf1adab"
   },
   "outputs": [],
   "source": [
    "import pandas as pd #importar librerías"
   ]
  },
  {
   "cell_type": "markdown",
   "id": "1d21d9ff",
   "metadata": {},
   "source": [
    "<div class=\"alert alert-block alert-success\">\n",
    "<b>Comentario del revisor </b> <a class=\"tocSkip\"></a>\n",
    "\n",
    "Perfecto, buen trabajo importando las librerías necesarias para el desarrollo del proyecto.\n",
    "</div> "
   ]
  },
  {
   "cell_type": "code",
   "execution_count": 8,
   "id": "ad36396d",
   "metadata": {
    "id": "ad36396d"
   },
   "outputs": [],
   "source": [
    "data1=pd.read_csv('/datasets/instacart_orders.csv') # leer conjuntos de datos en los DataFrames\n",
    "data2=pd.read_csv('/datasets/products.csv')\n",
    "data3=pd.read_csv('/datasets/aisles.csv')\n",
    "data4=pd.read_csv('/datasets/departments.csv')\n",
    "data5=pd.read_csv('/datasets/order_products.csv')"
   ]
  },
  {
   "cell_type": "markdown",
   "id": "98bb88df",
   "metadata": {},
   "source": [
    "<div class=\"alert alert-block alert-success\">\n",
    "<b>Comentario del revisor </b> <a class=\"tocSkip\"></a>\n",
    "\n",
    "Perfecto, buen trabajo cargando los datasets necesarios para el desarrollo del proyecto. \n",
    "</div> "
   ]
  },
  {
   "cell_type": "code",
   "execution_count": 9,
   "id": "ad6a1efa",
   "metadata": {
    "id": "ad6a1efa"
   },
   "outputs": [
    {
     "name": "stdout",
     "output_type": "stream",
     "text": [
      "<class 'pandas.core.frame.DataFrame'>\n",
      "RangeIndex: 478967 entries, 0 to 478966\n",
      "Data columns (total 1 columns):\n",
      " #   Column                                                                            Non-Null Count   Dtype \n",
      "---  ------                                                                            --------------   ----- \n",
      " 0   order_id;user_id;order_number;order_dow;order_hour_of_day;days_since_prior_order  478967 non-null  object\n",
      "dtypes: object(1)\n",
      "memory usage: 3.7+ MB\n",
      "None\n"
     ]
    }
   ],
   "source": [
    "print(data1.info()) # mostrar información del DataFrame"
   ]
  },
  {
   "cell_type": "code",
   "execution_count": 10,
   "id": "5130e05e",
   "metadata": {
    "id": "5130e05e"
   },
   "outputs": [
    {
     "name": "stdout",
     "output_type": "stream",
     "text": [
      "<class 'pandas.core.frame.DataFrame'>\n",
      "RangeIndex: 49694 entries, 0 to 49693\n",
      "Data columns (total 1 columns):\n",
      " #   Column                                          Non-Null Count  Dtype \n",
      "---  ------                                          --------------  ----- \n",
      " 0   product_id;product_name;aisle_id;department_id  49694 non-null  object\n",
      "dtypes: object(1)\n",
      "memory usage: 388.4+ KB\n",
      "None\n"
     ]
    }
   ],
   "source": [
    "print(data2.info())# mostrar información del DataFrame"
   ]
  },
  {
   "cell_type": "code",
   "execution_count": 11,
   "id": "d8370c05",
   "metadata": {
    "id": "d8370c05"
   },
   "outputs": [
    {
     "name": "stdout",
     "output_type": "stream",
     "text": [
      "<class 'pandas.core.frame.DataFrame'>\n",
      "RangeIndex: 134 entries, 0 to 133\n",
      "Data columns (total 1 columns):\n",
      " #   Column          Non-Null Count  Dtype \n",
      "---  ------          --------------  ----- \n",
      " 0   aisle_id;aisle  134 non-null    object\n",
      "dtypes: object(1)\n",
      "memory usage: 1.2+ KB\n",
      "None\n"
     ]
    }
   ],
   "source": [
    "print(data3.info())# mostrar información del DataFrame"
   ]
  },
  {
   "cell_type": "code",
   "execution_count": 12,
   "id": "59e2090f",
   "metadata": {
    "id": "59e2090f"
   },
   "outputs": [
    {
     "name": "stdout",
     "output_type": "stream",
     "text": [
      "<class 'pandas.core.frame.DataFrame'>\n",
      "RangeIndex: 21 entries, 0 to 20\n",
      "Data columns (total 1 columns):\n",
      " #   Column                    Non-Null Count  Dtype \n",
      "---  ------                    --------------  ----- \n",
      " 0   department_id;department  21 non-null     object\n",
      "dtypes: object(1)\n",
      "memory usage: 296.0+ bytes\n",
      "None\n"
     ]
    }
   ],
   "source": [
    "print(data4.info())# mostrar información del DataFrame"
   ]
  },
  {
   "cell_type": "code",
   "execution_count": 13,
   "id": "6fc81694",
   "metadata": {
    "id": "6fc81694"
   },
   "outputs": [
    {
     "name": "stdout",
     "output_type": "stream",
     "text": [
      "<class 'pandas.core.frame.DataFrame'>\n",
      "RangeIndex: 4545007 entries, 0 to 4545006\n",
      "Data columns (total 1 columns):\n",
      " #   Column                                           Dtype \n",
      "---  ------                                           ----- \n",
      " 0   order_id;product_id;add_to_cart_order;reordered  object\n",
      "dtypes: object(1)\n",
      "memory usage: 34.7+ MB\n",
      "None\n"
     ]
    }
   ],
   "source": [
    "print(data5.info())# mostrar información del DataFrame"
   ]
  },
  {
   "cell_type": "markdown",
   "id": "t75BD19oaR5f",
   "metadata": {
    "id": "t75BD19oaR5f"
   },
   "source": [
    "## Conclusiones\n",
    "\n",
    "Escribe aquí tus conclusiones intermedias sobre el Paso 1. Descripción de los datos.\n"
   ]
  },
  {
   "cell_type": "markdown",
   "id": "7580706a",
   "metadata": {},
   "source": [
    "Todos los conjuntos de datos, indican, al momento de usar info() que hay solo una columna, \n",
    "lo que no es cierto pues existen mas de una columna en todos los casos, solo que están delimitadas  \n",
    "una de la otra por el caracter \";\".Además indican que ninguna columna tiene datos no nulos, lo que \n",
    "está relacionado con utilizar el caracter \";\" como separador de datos."
   ]
  },
  {
   "cell_type": "markdown",
   "id": "6e124168",
   "metadata": {},
   "source": [
    "<div class=\"alert alert-block alert-success\">\n",
    "<b>Comentario del revisor </b> <a class=\"tocSkip\"></a>\n",
    "\n",
    "Muy buen trabajo. \n",
    "</div> "
   ]
  },
  {
   "cell_type": "markdown",
   "id": "8RJHqxVmaVsF",
   "metadata": {
    "id": "8RJHqxVmaVsF"
   },
   "source": [
    "# Paso 2. Preprocesamiento de los datos\n",
    "\n",
    "Preprocesa los datos de la siguiente manera:\n",
    "\n",
    "- Verifica y corrige los tipos de datos (por ejemplo, asegúrate de que las columnas de ID sean números enteros).\n",
    "- Identifica y completa los valores ausentes.\n",
    "- Identifica y elimina los valores duplicados.\n",
    "\n",
    "Asegúrate de explicar qué tipos de valores ausentes y duplicados encontraste, cómo los completaste o eliminaste y por qué usaste esos métodos. ¿Por qué crees que estos valores ausentes y duplicados pueden haber estado presentes en el conjunto de datos?"
   ]
  },
  {
   "cell_type": "markdown",
   "id": "p6poABZQaZYb",
   "metadata": {
    "id": "p6poABZQaZYb"
   },
   "source": [
    "## Plan de solución\n",
    "\n",
    "Escribe aquí tu plan para el Paso 2. Preprocesamiento de los datos."
   ]
  },
  {
   "cell_type": "markdown",
   "id": "5bef55f0",
   "metadata": {},
   "source": [
    "Primero se debe indicar que el elemento que separa los datos en el archivo csv es \";\" e imprimir \n",
    "nuevamente la información de este Data Frame"
   ]
  },
  {
   "cell_type": "code",
   "execution_count": 14,
   "id": "6c12cf39",
   "metadata": {},
   "outputs": [
    {
     "name": "stdout",
     "output_type": "stream",
     "text": [
      "<class 'pandas.core.frame.DataFrame'>\n",
      "RangeIndex: 478967 entries, 0 to 478966\n",
      "Data columns (total 6 columns):\n",
      " #   Column                  Non-Null Count   Dtype  \n",
      "---  ------                  --------------   -----  \n",
      " 0   order_id                478967 non-null  int64  \n",
      " 1   user_id                 478967 non-null  int64  \n",
      " 2   order_number            478967 non-null  int64  \n",
      " 3   order_dow               478967 non-null  int64  \n",
      " 4   order_hour_of_day       478967 non-null  int64  \n",
      " 5   days_since_prior_order  450148 non-null  float64\n",
      "dtypes: float64(1), int64(5)\n",
      "memory usage: 21.9 MB\n",
      "None\n",
      "<class 'pandas.core.frame.DataFrame'>\n",
      "RangeIndex: 49694 entries, 0 to 49693\n",
      "Data columns (total 4 columns):\n",
      " #   Column         Non-Null Count  Dtype \n",
      "---  ------         --------------  ----- \n",
      " 0   product_id     49694 non-null  int64 \n",
      " 1   product_name   48436 non-null  object\n",
      " 2   aisle_id       49694 non-null  int64 \n",
      " 3   department_id  49694 non-null  int64 \n",
      "dtypes: int64(3), object(1)\n",
      "memory usage: 1.5+ MB\n",
      "None\n",
      "<class 'pandas.core.frame.DataFrame'>\n",
      "RangeIndex: 134 entries, 0 to 133\n",
      "Data columns (total 2 columns):\n",
      " #   Column    Non-Null Count  Dtype \n",
      "---  ------    --------------  ----- \n",
      " 0   aisle_id  134 non-null    int64 \n",
      " 1   aisle     134 non-null    object\n",
      "dtypes: int64(1), object(1)\n",
      "memory usage: 2.2+ KB\n",
      "None\n",
      "<class 'pandas.core.frame.DataFrame'>\n",
      "RangeIndex: 21 entries, 0 to 20\n",
      "Data columns (total 2 columns):\n",
      " #   Column         Non-Null Count  Dtype \n",
      "---  ------         --------------  ----- \n",
      " 0   department_id  21 non-null     int64 \n",
      " 1   department     21 non-null     object\n",
      "dtypes: int64(1), object(1)\n",
      "memory usage: 464.0+ bytes\n",
      "None\n",
      "<class 'pandas.core.frame.DataFrame'>\n",
      "RangeIndex: 4545007 entries, 0 to 4545006\n",
      "Data columns (total 4 columns):\n",
      " #   Column             Dtype  \n",
      "---  ------             -----  \n",
      " 0   order_id           int64  \n",
      " 1   product_id         int64  \n",
      " 2   add_to_cart_order  float64\n",
      " 3   reordered          int64  \n",
      "dtypes: float64(1), int64(3)\n",
      "memory usage: 138.7 MB\n",
      "None\n"
     ]
    }
   ],
   "source": [
    "data1=pd.read_csv('/datasets/instacart_orders.csv',sep=\";\") # leer conjuntos de datos en los DataFrames y cambiar separador\n",
    "data2=pd.read_csv('/datasets/products.csv',sep=\";\")\n",
    "data3=pd.read_csv('/datasets/aisles.csv',sep=\";\")\n",
    "data4=pd.read_csv('/datasets/departments.csv',sep=\";\")\n",
    "data5=pd.read_csv('/datasets/order_products.csv',sep=\";\")\n",
    "\n",
    "print(data1.info())\n",
    "print(data2.info())\n",
    "print(data3.info())\n",
    "print(data4.info())\n",
    "print(data5.info())"
   ]
  },
  {
   "cell_type": "markdown",
   "id": "6a137117",
   "metadata": {},
   "source": [
    "Se observa que todos los datos son del tipo acorde a lo que indica en la descripción indicada en un inicio. Solo en el Data frame order_prodcuts se observa que la columna 'add_to_cart_order' tiene datos del tipo float64, y se define como \"el orden secuencial en el que se añadió cada artículo en el carrito\" por lo que se debiera transformar  un dato de tipo entero o int64"
   ]
  },
  {
   "cell_type": "code",
   "execution_count": 15,
   "id": "0b0a6aae",
   "metadata": {},
   "outputs": [],
   "source": [
    "data5['add_to_cart_order'] = data5['add_to_cart_order'].fillna(0).astype('int64')"
   ]
  },
  {
   "cell_type": "markdown",
   "id": "0405d2ca",
   "metadata": {},
   "source": [
    "Luego se debe identificar la cantidad de valores nulos en cada conjunto de datos"
   ]
  },
  {
   "cell_type": "code",
   "execution_count": 16,
   "id": "d181216e",
   "metadata": {},
   "outputs": [
    {
     "name": "stdout",
     "output_type": "stream",
     "text": [
      "Valores nulos en data1:\n",
      "order_id                      0\n",
      "user_id                       0\n",
      "order_number                  0\n",
      "order_dow                     0\n",
      "order_hour_of_day             0\n",
      "days_since_prior_order    28819\n",
      "dtype: int64\n",
      "\n",
      "Valores nulos en data2:\n",
      "product_id          0\n",
      "product_name     1258\n",
      "aisle_id            0\n",
      "department_id       0\n",
      "dtype: int64\n",
      "\n",
      "Valores nulos en data3:\n",
      "aisle_id    0\n",
      "aisle       0\n",
      "dtype: int64\n",
      "\n",
      "Valores nulos en data4:\n",
      "department_id    0\n",
      "department       0\n",
      "dtype: int64\n",
      "\n",
      "Valores nulos en data5:\n",
      "order_id             0\n",
      "product_id           0\n",
      "add_to_cart_order    0\n",
      "reordered            0\n",
      "dtype: int64\n",
      "\n"
     ]
    }
   ],
   "source": [
    "for i, df in enumerate([data1, data2, data3, data4, data5], start=1):\n",
    "    print(f\"Valores nulos en data{i}:\")\n",
    "    print(df.isnull().sum())\n",
    "    print()"
   ]
  },
  {
   "cell_type": "markdown",
   "id": "522a888a",
   "metadata": {},
   "source": [
    "<div class=\"alert alert-block alert-success\">\n",
    "<b>Comentario del revisor </b> <a class=\"tocSkip\"></a>\n",
    "\n",
    "Perfecto, buen trabajo realizando la exploración inicial del contenido de cada uno de los datasets y así mismo explorando el tema del separador a la hora de cargar los datos. \n",
    "</div> "
   ]
  },
  {
   "cell_type": "markdown",
   "id": "07357848-dc64-4156-9cc3-01ff4365226d",
   "metadata": {
    "id": "07357848-dc64-4156-9cc3-01ff4365226d"
   },
   "source": [
    "## Encuentra y elimina los valores duplicados (y describe cómo tomaste tus decisiones)."
   ]
  },
  {
   "cell_type": "markdown",
   "id": "f179f0a9",
   "metadata": {
    "id": "f179f0a9"
   },
   "source": [
    "### `instacart_orders` data frame"
   ]
  },
  {
   "cell_type": "code",
   "execution_count": 17,
   "id": "b99297a5-405a-463d-8535-9adc3da4ad74",
   "metadata": {
    "id": "b99297a5-405a-463d-8535-9adc3da4ad74"
   },
   "outputs": [
    {
     "name": "stdout",
     "output_type": "stream",
     "text": [
      "Cantidad de pedidos duplicados: 15\n",
      "        order_id  user_id  order_number  order_dow  order_hour_of_day  \\\n",
      "145574    794638    50898            24          3                  2   \n",
      "223105   2160484   107525            16          3                  2   \n",
      "230807   1918001   188546            14          3                  2   \n",
      "266232   1782114   106752             1          3                  2   \n",
      "273805   1112182   202304            84          3                  2   \n",
      "284038   2845099    31189            11          3                  2   \n",
      "311713   1021560    53767             3          3                  2   \n",
      "321100    408114    68324             4          3                  2   \n",
      "323900   1919531   191501            32          3                  2   \n",
      "345917   2232988    82565             1          3                  2   \n",
      "371905    391768    57671            19          3                  2   \n",
      "394347    467134    63189            21          3                  2   \n",
      "411408   1286742   183220            48          3                  2   \n",
      "415163   2282673    86751            49          3                  2   \n",
      "441599   2125197    14050            48          3                  2   \n",
      "\n",
      "        days_since_prior_order  \n",
      "145574                     2.0  \n",
      "223105                    30.0  \n",
      "230807                    16.0  \n",
      "266232                     NaN  \n",
      "273805                     6.0  \n",
      "284038                     7.0  \n",
      "311713                     9.0  \n",
      "321100                    18.0  \n",
      "323900                     7.0  \n",
      "345917                     NaN  \n",
      "371905                    10.0  \n",
      "394347                     2.0  \n",
      "411408                     4.0  \n",
      "415163                     2.0  \n",
      "441599                     3.0  \n"
     ]
    }
   ],
   "source": [
    "data1=pd.read_csv('/datasets/instacart_orders.csv',sep=\";\") # Revisa si hay pedidos duplicados\n",
    "pedidos_duplicados=data1[data1.duplicated()]\n",
    "\n",
    "print(\"Cantidad de pedidos duplicados:\", data1.duplicated().sum())\n",
    "print(pedidos_duplicados)"
   ]
  },
  {
   "cell_type": "markdown",
   "id": "PEkwUX_gvt5A",
   "metadata": {
    "id": "PEkwUX_gvt5A"
   },
   "source": [
    "¿Tienes líneas duplicadas? Si sí, ¿qué tienen en común?"
   ]
  },
  {
   "cell_type": "markdown",
   "id": "ad09467d",
   "metadata": {},
   "source": [
    "Todas las filas duplicadas corresponden a pedidos que fueron realizados el mismo día y hora (Miércoles, 2 AM)"
   ]
  },
  {
   "cell_type": "code",
   "execution_count": 18,
   "id": "0d44de5d",
   "metadata": {
    "id": "0d44de5d"
   },
   "outputs": [
    {
     "name": "stdout",
     "output_type": "stream",
     "text": [
      "        order_id\n",
      "4838     2766110\n",
      "5156     2190225\n",
      "15506     553049\n",
      "18420     382357\n",
      "24691     690242\n",
      "...          ...\n",
      "457013   3384021\n",
      "458816    910166\n",
      "459635   1680532\n",
      "468324    222962\n",
      "477526   2592344\n",
      "\n",
      "[121 rows x 1 columns]\n"
     ]
    }
   ],
   "source": [
    "# Basándote en tus hallazgos,\n",
    "# Verifica todos los pedidos que se hicieron el miércoles a las 2:00 a.m.\n",
    "\n",
    "pedidos_miercoles_2am = data1[(data1['order_dow'] == 3) & (data1['order_hour_of_day'] == 2)]\n",
    "\n",
    "# Mostrar los pedidos filtrados\n",
    "print(pedidos_miercoles_2am[['order_id']])"
   ]
  },
  {
   "cell_type": "markdown",
   "id": "vu2OWyoqwOx5",
   "metadata": {
    "id": "vu2OWyoqwOx5"
   },
   "source": [
    "¿Qué sugiere este resultado?"
   ]
  },
  {
   "cell_type": "markdown",
   "id": "9aa49793",
   "metadata": {},
   "source": [
    "Si se descuentan los 15 pedidos duplicados, hay 121-15=106 pedidos realizados el día miércoles a las 2 AM"
   ]
  },
  {
   "cell_type": "code",
   "execution_count": 19,
   "id": "480563c7",
   "metadata": {
    "id": "480563c7"
   },
   "outputs": [],
   "source": [
    "# Elimina los pedidos duplicados\n",
    "\n",
    "data1 = data1.drop_duplicates()\n"
   ]
  },
  {
   "cell_type": "code",
   "execution_count": 20,
   "id": "0b2396a2",
   "metadata": {
    "id": "0b2396a2"
   },
   "outputs": [
    {
     "name": "stdout",
     "output_type": "stream",
     "text": [
      "Cantidad de pedidos duplicados: 0\n",
      "Empty DataFrame\n",
      "Columns: [order_id, user_id, order_number, order_dow, order_hour_of_day, days_since_prior_order]\n",
      "Index: []\n"
     ]
    }
   ],
   "source": [
    "# Vuelve a verificar si hay filas duplicadas\n",
    "\n",
    "pedidos_duplicados=data1[data1.duplicated()]\n",
    "\n",
    "print(\"Cantidad de pedidos duplicados:\", data1.duplicated().sum())\n",
    "print(pedidos_duplicados)"
   ]
  },
  {
   "cell_type": "code",
   "execution_count": 21,
   "id": "f6113ef1",
   "metadata": {
    "id": "f6113ef1"
   },
   "outputs": [
    {
     "name": "stdout",
     "output_type": "stream",
     "text": [
      "Cantidad de duplicados en 'order_id': 0\n"
     ]
    }
   ],
   "source": [
    "# Vuelve a verificar si hay IDs duplicados de pedidos\n",
    "ids_duplicados = data1['order_id'].duplicated().sum()\n",
    "print(f\"Cantidad de duplicados en 'order_id': {ids_duplicados}\")"
   ]
  },
  {
   "cell_type": "markdown",
   "id": "5e8905ae",
   "metadata": {
    "id": "5e8905ae"
   },
   "source": [
    "Los pedidos duplicados en el dataframe instacart_orders del día miercoles a las 2AM corresponden a cerca del 12% de los pedidos realizados en ese momento"
   ]
  },
  {
   "cell_type": "markdown",
   "id": "45e6bc46",
   "metadata": {
    "id": "45e6bc46"
   },
   "source": [
    "### `products` data frame"
   ]
  },
  {
   "cell_type": "code",
   "execution_count": 22,
   "id": "5f526b5b-8175-46fa-a0fd-441767d50e64",
   "metadata": {
    "id": "5f526b5b-8175-46fa-a0fd-441767d50e64"
   },
   "outputs": [
    {
     "name": "stdout",
     "output_type": "stream",
     "text": [
      "Cantidad de productos duplicados: 0\n",
      "Empty DataFrame\n",
      "Columns: [product_id, product_name, aisle_id, department_id]\n",
      "Index: []\n"
     ]
    }
   ],
   "source": [
    " # Verifica si hay filas totalmente duplicadas\n",
    "productos_duplicados=data2[data2.duplicated()]\n",
    "\n",
    "print(\"Cantidad de productos duplicados:\", data2.duplicated().sum())\n",
    "print(productos_duplicados)\n"
   ]
  },
  {
   "cell_type": "code",
   "execution_count": 23,
   "id": "88daa4f4",
   "metadata": {
    "id": "88daa4f4"
   },
   "outputs": [
    {
     "name": "stdout",
     "output_type": "stream",
     "text": [
      "Cantidad de duplicados en 'product_id': 0\n"
     ]
    }
   ],
   "source": [
    "# Verifica si hay IDs duplicadas de productos\n",
    "product_duplicados = data2['product_id'].duplicated().sum()\n",
    "print(f\"Cantidad de duplicados en 'product_id': {product_duplicados}\")"
   ]
  },
  {
   "cell_type": "code",
   "execution_count": 24,
   "id": "c773f0bf",
   "metadata": {
    "id": "c773f0bf"
   },
   "outputs": [
    {
     "name": "stdout",
     "output_type": "stream",
     "text": [
      "Cantidad de nombres duplicados:1361\n"
     ]
    }
   ],
   "source": [
    "# Revisa si hay nombres duplicados de productos (convierte los nombres a letras mayúsculas para compararlos mejor)\n",
    "data2['product_name'] = data2['product_name'].str.upper()\n",
    "duplicados=data2['product_name'].duplicated().sum()\n",
    "\n",
    "print(f\"Cantidad de nombres duplicados:{duplicados}\")"
   ]
  },
  {
   "cell_type": "code",
   "execution_count": 25,
   "id": "01efd02e",
   "metadata": {
    "id": "01efd02e"
   },
   "outputs": [
    {
     "name": "stdout",
     "output_type": "stream",
     "text": [
      "Número de nombres duplicados (sin incluir faltantes): 104\n"
     ]
    }
   ],
   "source": [
    "# Revisa si hay nombres duplicados de productos no faltantes\n",
    "data2_no_nulos=data2[data2['product_name'].notnull()] #permite trabajar solo con filas donde no hay nombres no faltantes\n",
    "duplicados = data2_no_nulos['product_name'].duplicated().sum()\n",
    "print(f\"Número de nombres duplicados (sin incluir faltantes): {duplicados}\")\n"
   ]
  },
  {
   "cell_type": "markdown",
   "id": "9da8d293",
   "metadata": {
    "id": "9da8d293"
   },
   "source": [
    "Describe brevemente tus hallazgos y lo que hiciste con ellos."
   ]
  },
  {
   "cell_type": "markdown",
   "id": "218e1eef",
   "metadata": {},
   "source": [
    "Se observa que son 104 nombres de productos duplicados del total de 1361 que se indicaron en la parte anterior del código.Son 1361-104=1267 nombres de prodcutos nulos en el conjunto de datos."
   ]
  },
  {
   "cell_type": "markdown",
   "id": "60f30db1",
   "metadata": {
    "id": "60f30db1"
   },
   "source": [
    "### `departments` data frame"
   ]
  },
  {
   "cell_type": "code",
   "execution_count": 26,
   "id": "fb410ad4-0fbf-4b80-bb09-23fdea79afe3",
   "metadata": {
    "id": "fb410ad4-0fbf-4b80-bb09-23fdea79afe3"
   },
   "outputs": [
    {
     "name": "stdout",
     "output_type": "stream",
     "text": [
      "Cantidad de filas duplicadas: {0}\n"
     ]
    }
   ],
   "source": [
    "# Revisa si hay filas totalmente duplicadas\n",
    "filas_duplicadas=data4.duplicated().sum()\n",
    "print(\"Cantidad de filas duplicadas:\", {filas_duplicadas})\n"
   ]
  },
  {
   "cell_type": "code",
   "execution_count": 27,
   "id": "332b12bb",
   "metadata": {
    "id": "332b12bb"
   },
   "outputs": [
    {
     "name": "stdout",
     "output_type": "stream",
     "text": [
      "Cantidad de IDs duplicados: 0\n"
     ]
    }
   ],
   "source": [
    "# Revisa si hay IDs duplicadas de productos\n",
    "duplicados_department_id = data4['department_id'].duplicated().sum()\n",
    "print(f\"Cantidad de IDs duplicados: {duplicados_department_id}\")\n"
   ]
  },
  {
   "cell_type": "markdown",
   "id": "bd30d78e",
   "metadata": {
    "id": "bd30d78e"
   },
   "source": [
    "Describe brevemente tus hallazgos y lo que hiciste con ellos."
   ]
  },
  {
   "cell_type": "markdown",
   "id": "8f6dce4b",
   "metadata": {},
   "source": [
    "No se encuentran valores duplicados en este conjunto de datos"
   ]
  },
  {
   "cell_type": "markdown",
   "id": "716b1fd7",
   "metadata": {},
   "source": [
    "<div class=\"alert alert-block alert-success\">\n",
    "<b>Comentario del revisor </b> <a class=\"tocSkip\"></a>\n",
    "\n",
    "Perfecto, buen trabajo.\n",
    "</div> "
   ]
  },
  {
   "cell_type": "markdown",
   "id": "889349c1",
   "metadata": {
    "id": "889349c1"
   },
   "source": [
    "### `aisles` data frame"
   ]
  },
  {
   "cell_type": "code",
   "execution_count": 28,
   "id": "9da89fb9-4679-40f5-ad0d-c34df753a3f8",
   "metadata": {
    "id": "9da89fb9-4679-40f5-ad0d-c34df753a3f8"
   },
   "outputs": [
    {
     "name": "stdout",
     "output_type": "stream",
     "text": [
      "Cantidad de filas duplicadas: {0}\n"
     ]
    }
   ],
   "source": [
    "# Revisa si hay filas totalmente duplicadas\n",
    "filas_duplicadas=data3.duplicated().sum()\n",
    "print(\"Cantidad de filas duplicadas:\", {filas_duplicadas})"
   ]
  },
  {
   "cell_type": "code",
   "execution_count": 29,
   "id": "da7c2822",
   "metadata": {
    "id": "da7c2822"
   },
   "outputs": [
    {
     "name": "stdout",
     "output_type": "stream",
     "text": [
      "Cantidad de IDs duplicados: 0\n"
     ]
    }
   ],
   "source": [
    "# Revisa si hay IDs duplicadas de productos\n",
    "duplicados_aisle = data3['aisle_id'].duplicated().sum()\n",
    "print(f\"Cantidad de IDs duplicados: {duplicados_department_id}\")"
   ]
  },
  {
   "cell_type": "markdown",
   "id": "254b25e7",
   "metadata": {},
   "source": [
    "No se encuentran valores duplicados en este conjunto de datos"
   ]
  },
  {
   "cell_type": "markdown",
   "id": "b147f344",
   "metadata": {},
   "source": [
    "<div class=\"alert alert-block alert-success\">\n",
    "<b>Comentario del revisor </b> <a class=\"tocSkip\"></a>\n",
    "\n",
    "Excelente, buen trabajo explorando y concluyendo sobre el fenómeno de registros duplicados dentro del dataset. \n",
    "</div> "
   ]
  },
  {
   "cell_type": "markdown",
   "id": "274cd06a",
   "metadata": {
    "id": "274cd06a"
   },
   "source": [
    "### `order_products` data frame"
   ]
  },
  {
   "cell_type": "code",
   "execution_count": 30,
   "id": "52326689-84a8-4b8f-a881-7c68780f62c9",
   "metadata": {
    "id": "52326689-84a8-4b8f-a881-7c68780f62c9"
   },
   "outputs": [
    {
     "name": "stdout",
     "output_type": "stream",
     "text": [
      "Cantidad de filas duplicadas: {0}\n"
     ]
    }
   ],
   "source": [
    "# Revisa si hay filas totalmente duplicadas\n",
    "filas_duplicadas=data5.duplicated().sum()\n",
    "print(\"Cantidad de filas duplicadas:\", {filas_duplicadas})"
   ]
  },
  {
   "cell_type": "code",
   "execution_count": 31,
   "id": "7b861391",
   "metadata": {
    "id": "7b861391"
   },
   "outputs": [
    {
     "name": "stdout",
     "output_type": "stream",
     "text": [
      "Número de combinaciones duplicadas en 'order_id' y 'product_id': 0\n"
     ]
    }
   ],
   "source": [
    "# Vuelve a verificar si hay cualquier otro duplicado engañoso\n",
    "#primero se normalizan los valores de ls columns 'order_id' y 'product_id'\n",
    "data5['order_id'] = data5['order_id'].astype(str).str.strip()\n",
    "data5['product_id'] = data5['product_id'].astype(str).str.strip()\n",
    "\n",
    "#se detectan duplicados en las columnas seleccionadas posterior a su normalización\n",
    "duplicados_columnas = data5.duplicated(subset=['order_id', 'product_id'], keep=False)\n",
    "print(f\"Número de combinaciones duplicadas en 'order_id' y 'product_id': {duplicados_columnas.sum()}\")"
   ]
  },
  {
   "cell_type": "markdown",
   "id": "0b890492",
   "metadata": {
    "id": "0b890492"
   },
   "source": [
    "Describe brevemente tus hallazgos y lo que hiciste con ellos."
   ]
  },
  {
   "cell_type": "markdown",
   "id": "a1e9fffe",
   "metadata": {},
   "source": [
    "Luego de asegurarnos que los valores de ls columnas 'order_id' y 'product_id' estén normalizados, no se encuentran valores duplicados en este conjunto de datos"
   ]
  },
  {
   "cell_type": "markdown",
   "id": "fc244805",
   "metadata": {},
   "source": [
    "<div class=\"alert alert-block alert-success\">\n",
    "<b>Comentario del revisor </b> <a class=\"tocSkip\"></a>\n",
    "\n",
    "Buen trabajo. \n",
    "</div> "
   ]
  },
  {
   "cell_type": "markdown",
   "id": "1e46de76",
   "metadata": {
    "id": "1e46de76"
   },
   "source": [
    "## Encuentra y elimina los valores ausentes\n",
    "\n",
    "Al trabajar con valores duplicados, pudimos observar que también nos falta investigar valores ausentes:\n",
    "\n",
    "* La columna `'product_name'` de la tabla products.\n",
    "* La columna `'days_since_prior_order'` de la tabla orders.\n",
    "* La columna `'add_to_cart_order'` de la tabla order_productos."
   ]
  },
  {
   "cell_type": "markdown",
   "id": "c0aebd78",
   "metadata": {
    "id": "c0aebd78"
   },
   "source": [
    "### `products` data frame"
   ]
  },
  {
   "cell_type": "code",
   "execution_count": 32,
   "id": "fe4a8b0f",
   "metadata": {
    "id": "fe4a8b0f"
   },
   "outputs": [
    {
     "name": "stdout",
     "output_type": "stream",
     "text": [
      "Cantidad de valores ausentes en columna 'product_name': 1258\n"
     ]
    }
   ],
   "source": [
    "# Encuentra los valores ausentes en la columna 'product_name'\n",
    "valores_ausentes = data2['product_name'].isna().sum()\n",
    "print(f\"Cantidad de valores ausentes en columna 'product_name': {valores_ausentes}\")"
   ]
  },
  {
   "cell_type": "markdown",
   "id": "559442a7",
   "metadata": {},
   "source": [
    "Se encuentran 1258 valores ausentes"
   ]
  },
  {
   "cell_type": "code",
   "execution_count": 33,
   "id": "e96167bc",
   "metadata": {
    "id": "e96167bc"
   },
   "outputs": [
    {
     "name": "stdout",
     "output_type": "stream",
     "text": [
      "Cantidad de valores ausentes en 'product_name' donde 'aisle_id' es 100: 1258\n"
     ]
    }
   ],
   "source": [
    "#  ¿Todos los nombres de productos ausentes están relacionados con el pasillo con ID 100?\n",
    "valores_ausentes_asociados = data2[data2['product_name'].isna() & (data2['aisle_id'] == 100)]\n",
    "contar_valores_ausentes_asociados = valores_ausentes_asociados.shape[0]\n",
    "print(f\"Cantidad de valores ausentes en 'product_name' donde 'aisle_id' es 100: {contar_valores_ausentes_asociados}\")"
   ]
  },
  {
   "cell_type": "markdown",
   "id": "89e77942",
   "metadata": {},
   "source": [
    "Con el código superior se verifica que todos los nombres de productos ausentes se encuentran en el pasillo con ID=100"
   ]
  },
  {
   "cell_type": "code",
   "execution_count": 34,
   "id": "8fd0a541",
   "metadata": {
    "id": "8fd0a541"
   },
   "outputs": [
    {
     "name": "stdout",
     "output_type": "stream",
     "text": [
      "Cantidad de valores ausentes en 'product_name' donde 'department_id' es 21: 1258\n"
     ]
    }
   ],
   "source": [
    "# ¿Todos los nombres de productos ausentes están relacionados con el departamento con ID 21?\n",
    "valores_ausentes_asociados = data2[data2['product_name'].isna() & (data2['department_id'] == 21)]\n",
    "contar_valores_ausentes_asociados = valores_ausentes_asociados.shape[0]\n",
    "print(f\"Cantidad de valores ausentes en 'product_name' donde 'department_id' es 21: {contar_valores_ausentes_asociados}\")"
   ]
  },
  {
   "cell_type": "markdown",
   "id": "d03f70bf",
   "metadata": {},
   "source": [
    "Con el código superior se verifica que todos los nombres de productos ausentes se encuentran asociados al departamento con ID=21"
   ]
  },
  {
   "cell_type": "code",
   "execution_count": 35,
   "id": "325c3464",
   "metadata": {
    "id": "325c3464"
   },
   "outputs": [
    {
     "name": "stdout",
     "output_type": "stream",
     "text": [
      "Datos del pasillo con ID 100:\n",
      "    aisle_id    aisle\n",
      "99       100  missing\n",
      "\n",
      "Datos del departamento con ID 21:\n",
      "    department_id department\n",
      "20             21    missing\n"
     ]
    }
   ],
   "source": [
    "# Usa las tablas department y aisle para revisar los datos del pasillo con ID 100 y el departamento con ID 21.\n",
    "# Filtrar el pasillo con ID 100 (tabla aisles)\n",
    "pasillo_100 = data3[data3['aisle_id'] == 100]\n",
    "print(\"Datos del pasillo con ID 100:\")\n",
    "print(pasillo_100)\n",
    "\n",
    "# Filtrar el departamento con ID 21 (tabla departments)\n",
    "departamento_21 = data4[data4['department_id'] == 21]\n",
    "print(\"\\nDatos del departamento con ID 21:\")\n",
    "print(departamento_21)"
   ]
  },
  {
   "cell_type": "markdown",
   "id": "5f5fc081",
   "metadata": {},
   "source": [
    "Tanto el pasillo con ID 100 como el departamente con ID 21 tienen asignado el nombre \"missing\", lo que se puede interpretar como un recolección errónea de esos datos."
   ]
  },
  {
   "cell_type": "code",
   "execution_count": 36,
   "id": "6b295120",
   "metadata": {
    "id": "6b295120"
   },
   "outputs": [
    {
     "name": "stdout",
     "output_type": "stream",
     "text": [
      "Cantidad de valores ausentes restantes en 'product_name': 0\n"
     ]
    }
   ],
   "source": [
    "# Completa los nombres de productos ausentes con 'Unknown'\n",
    "data2['product_name'] = data2['product_name'].fillna('unknown')\n",
    "valores_ausentes_nuevos = data2['product_name'].isna().sum()\n",
    "print(f\"Cantidad de valores ausentes restantes en 'product_name': {valores_ausentes_nuevos}\")"
   ]
  },
  {
   "cell_type": "markdown",
   "id": "fc70e5ad",
   "metadata": {
    "id": "fc70e5ad"
   },
   "source": [
    "Se observan valores ausentes en los pasillos que no poseen nombre.Probablemente es un pasillo inexistente que se creó por error en el proceso de recolección de datos"
   ]
  },
  {
   "cell_type": "markdown",
   "id": "98a17e58",
   "metadata": {},
   "source": [
    "<div class=\"alert alert-block alert-danger\">\n",
    "<b>Comentario del revisor </b> <a class=\"tocSkip\"></a>\n",
    "\n",
    "~~Perfecto, buen trabajo explorando el problema de los valores nulos dentro del dataset, Simplemente debes generar observaciones sobre lo realizado y lo encontrado.~~ \n",
    "</div> \n",
    "\n",
    "<div class=\"alert alert-block alert-success\">\n",
    "<b>Comentario del revisor #2</b> <a class=\"tocSkip\"></a>\n",
    "\n",
    "Buen trabajo.  \n",
    "</div> "
   ]
  },
  {
   "cell_type": "markdown",
   "id": "7eb45c86",
   "metadata": {
    "id": "7eb45c86"
   },
   "source": [
    "### `orders` data frame"
   ]
  },
  {
   "cell_type": "code",
   "execution_count": 37,
   "id": "93e41d96",
   "metadata": {
    "id": "93e41d96"
   },
   "outputs": [
    {
     "name": "stdout",
     "output_type": "stream",
     "text": [
      "Valores ausentes por columna en data:\n",
      "order_id                      0\n",
      "user_id                       0\n",
      "order_number                  0\n",
      "order_dow                     0\n",
      "order_hour_of_day             0\n",
      "days_since_prior_order    28817\n",
      "dtype: int64\n"
     ]
    }
   ],
   "source": [
    "# Encuentra los valores ausentes\n",
    "valores_ausentes_totales = data1.isna().sum()\n",
    "print(\"Valores ausentes por columna en data:\")\n",
    "print(valores_ausentes_totales)"
   ]
  },
  {
   "cell_type": "markdown",
   "id": "c9311d36",
   "metadata": {
    "id": "166e5a86"
   },
   "source": [
    "# ¿Hay algún valor ausente que no sea el primer pedido del cliente?\n",
    "No, la única columna que contiene valores ausentes es days_since_prior_order, que se define como \"número de días\n",
    "transcurridos desde que este cliente hizo su pedido anterior.\"por lo tanto, al no tener un valor significa que no hay un pedido \n",
    "naterior al que se registra en este conjunto de datos y, por consecuencia, cada fila corresponde al primer pedido del cliente\n",
    "\n"
   ]
  },
  {
   "cell_type": "markdown",
   "id": "ab053409",
   "metadata": {},
   "source": [
    "<div class=\"alert alert-block alert-success\">\n",
    "<b>Comentario del revisor </b> <a class=\"tocSkip\"></a>\n",
    "\n",
    "Buen trabajo. \n",
    "</div> "
   ]
  },
  {
   "cell_type": "markdown",
   "id": "69dc9ca4",
   "metadata": {
    "id": "69dc9ca4"
   },
   "source": [
    "### `order_products` data frame"
   ]
  },
  {
   "cell_type": "code",
   "execution_count": 38,
   "id": "b8240253",
   "metadata": {
    "id": "b8240253"
   },
   "outputs": [
    {
     "name": "stdout",
     "output_type": "stream",
     "text": [
      "Valores ausentes en 'order_id': 0\n"
     ]
    }
   ],
   "source": [
    "# Encuentra los valores ausentes\n",
    "valores_ausentes_order_id = data5['order_id'].isna().sum()\n",
    "print(f\"Valores ausentes en 'order_id': {valores_ausentes_order_id}\")"
   ]
  },
  {
   "cell_type": "code",
   "execution_count": 39,
   "id": "9a78e5ee",
   "metadata": {
    "id": "9a78e5ee"
   },
   "outputs": [
    {
     "name": "stdout",
     "output_type": "stream",
     "text": [
      "Valor máximo en la columna:\n",
      "3421079\n",
      "Valor mínimo en la columna:\n",
      "4\n"
     ]
    }
   ],
   "source": [
    "# ¿Cuáles son los valores mínimos y máximos en esta columna?\n",
    "data5['order_id'] = pd.to_numeric(data5['order_id'], errors='coerce')\n",
    "valores_nulos=data5['order_id'].isna().sum()\n",
    "valores_duplicados=data5['order_id'].duplicated().sum()\n",
    "\n",
    "min_order_id = data5['order_id'].min()\n",
    "max_order_id = data5['order_id'].max()\n",
    "\n",
    "print(\"Valor máximo en la columna:\")\n",
    "print(max_order_id)\n",
    "\n",
    "print(\"Valor mínimo en la columna:\")\n",
    "print(min_order_id)\n"
   ]
  },
  {
   "cell_type": "markdown",
   "id": "e17f2a49",
   "metadata": {},
   "source": [
    "Esto verifica que el primer pedido tiene ID=4 y el último es 3421079"
   ]
  },
  {
   "cell_type": "code",
   "execution_count": 40,
   "id": "ab9d0c2b",
   "metadata": {
    "id": "ab9d0c2b"
   },
   "outputs": [
    {
     "name": "stdout",
     "output_type": "stream",
     "text": [
      "IDs de pedidos con valores ausentes en 'add_to_cart_order':\n",
      "Series([], Name: order_id, dtype: int64)\n"
     ]
    }
   ],
   "source": [
    "# Guarda todas las IDs de pedidos que tengan un valor ausente en 'add_to_cart_order'\n",
    "pedidos_ausentes = data5[data5['add_to_cart_order'].isna()]\n",
    "\n",
    "ids_pedidos_ausentes = pedidos_ausentes['order_id']\n",
    "\n",
    "\n",
    "print(\"IDs de pedidos con valores ausentes en 'add_to_cart_order':\")\n",
    "print(ids_pedidos_ausentes)"
   ]
  },
  {
   "cell_type": "code",
   "execution_count": 41,
   "id": "215b644e",
   "metadata": {},
   "outputs": [
    {
     "name": "stdout",
     "output_type": "stream",
     "text": [
      "Valores únicos en 'add_to_cart_order':\n",
      "65\n"
     ]
    }
   ],
   "source": [
    "valores_unicos = data5['add_to_cart_order'].nunique()\n",
    "\n",
    "print(\"Valores únicos en 'add_to_cart_order':\")\n",
    "print(valores_unicos)"
   ]
  },
  {
   "cell_type": "code",
   "execution_count": 42,
   "id": "c79a27c9",
   "metadata": {},
   "outputs": [
    {
     "name": "stdout",
     "output_type": "stream",
     "text": [
      "No hay pedidos con valores ausentes en 'add_to_cart_order'.\n"
     ]
    }
   ],
   "source": [
    "# ¿Todos los pedidos con valores ausentes tienen más de 64 productos?\n",
    "# Agrupa todos los pedidos con datos ausentes por su ID de pedido.\n",
    "# Cuenta el número de 'product_id' en cada pedido y revisa el valor mínimo del conteo.\n",
    "\n",
    "# Paso 1: Filtrar filas donde 'add_to_cart_order' sea NaN\n",
    "pedidos_ausentes = data5[data5['add_to_cart_order'].isna()]\n",
    "\n",
    "# Verificar si existen filas con NaN en 'add_to_cart_order'\n",
    "if pedidos_ausentes.empty:\n",
    "    print(\"No hay pedidos con valores ausentes en 'add_to_cart_order'.\")\n",
    "else:\n",
    "    # Paso 2: Eliminar las filas con 'NaN' en 'product_id' para asegurar que solo contamos productos válidos\n",
    "    pedidos_ausentes_validos = pedidos_ausentes.dropna(subset=['product_id'])\n",
    "\n",
    "    # Paso 3: Agrupar por 'order_id' y contar los productos únicos ('product_id') en cada pedido\n",
    "    conteo_productos_por_pedido = pedidos_ausentes_validos.groupby('order_id')['product_id'].count()\n",
    "\n",
    "    # Paso 4: Calcular el valor mínimo de productos por pedido\n",
    "    min_productos = conteo_productos_por_pedido.min()\n",
    "\n",
    "    # Mostrar el valor mínimo\n",
    "    print(f\"Valor mínimo del número de productos en los pedidos con valores ausentes en 'add_to_cart_order': {min_productos}\")\n",
    "\n",
    "    # Paso 5: Verificar si todos los pedidos con valores ausentes tienen más de 64 productos\n",
    "    todos_mas_de_64 = conteo_productos_por_pedido[conteo_productos_por_pedido > 64]\n",
    "\n",
    "    # Mostrar los pedidos con más de 64 productos\n",
    "    print(f\"Pedidos con más de 64 productos:\")\n",
    "    print(todos_mas_de_64)\n",
    "\n"
   ]
  },
  {
   "cell_type": "markdown",
   "id": "p9V6pddtjglj",
   "metadata": {
    "id": "p9V6pddtjglj"
   },
   "source": [
    "No se encuentran valores ausentes en la columna indicada"
   ]
  },
  {
   "cell_type": "code",
   "execution_count": 43,
   "id": "7a987d08",
   "metadata": {
    "id": "7a987d08"
   },
   "outputs": [
    {
     "name": "stdout",
     "output_type": "stream",
     "text": [
      "int64\n",
      "0    17\n",
      "1     1\n",
      "2     1\n",
      "3    35\n",
      "4     5\n",
      "Name: add_to_cart_order, dtype: int64\n"
     ]
    }
   ],
   "source": [
    "# Remplaza los valores ausentes en la columna 'add_to_cart' con 999 y convierte la columna al tipo entero.\n",
    "data5['add_to_cart_order'] = data5['add_to_cart_order'].fillna(999)\n",
    "data5['add_to_cart_order'] = data5['add_to_cart_order'].astype(int)\n",
    "\n",
    "\n",
    "print(data5['add_to_cart_order'].dtype)  # Verificar el tipo de la columna\n",
    "print(data5['add_to_cart_order'].head())"
   ]
  },
  {
   "cell_type": "markdown",
   "id": "fea4bcc7",
   "metadata": {
    "id": "fea4bcc7"
   },
   "source": [
    "En la columna 'add_to_cart_order' no se encuentran valores ausentes, esto puede ser porque es un valor que se añade automáticamente al agregar un producto al carro."
   ]
  },
  {
   "cell_type": "markdown",
   "id": "117e03e8",
   "metadata": {},
   "source": [
    "<div class=\"alert alert-block alert-danger\">\n",
    "<b>Comentario del revisor </b> <a class=\"tocSkip\"></a>\n",
    "\n",
    "~~Buen trabajo, simplemente debes generar observaciones sobre lo realizado y lo encontrado.~~ \n",
    "</div> "
   ]
  },
  {
   "cell_type": "markdown",
   "id": "74cf2d22",
   "metadata": {},
   "source": [
    "<div class=\"alert alert-block alert-success\">\n",
    "<b>Comentario del revisor #2 </b> <a class=\"tocSkip\"></a>\n",
    "\n",
    "Buen trabajo Stephania. \n",
    "</div> "
   ]
  },
  {
   "cell_type": "markdown",
   "id": "RnplPFY1gSrb",
   "metadata": {
    "id": "RnplPFY1gSrb"
   },
   "source": [
    "## Conclusiones\n",
    "\n",
    "Escribe aquí tus conclusiones intermedias sobre el Paso 2. Preprocesamiento de los datos\n"
   ]
  },
  {
   "cell_type": "markdown",
   "id": "dbf3eebe",
   "metadata": {},
   "source": [
    "Es muy relevante en primer instancia tener una visión general de los datos, pues si es posible detectar formas que nos puede llevar a errores como es utilizar un elemento distinto al espacio para separar columnas\n",
    "Es relevante también conocer el tipo de datos que presenta cada fila y esto debe ser coherente con lo que debe mostrar la columna determinada.\n",
    "Los dataframe asociados a los pasillos y departamentos  no contienen datos nulos."
   ]
  },
  {
   "cell_type": "markdown",
   "id": "UjrOIwTcz3ri",
   "metadata": {
    "id": "UjrOIwTcz3ri"
   },
   "source": [
    "# Paso 3. Análisis de los datos\n",
    "\n",
    "Una vez los datos estén procesados y listos, haz el siguiente análisis:"
   ]
  },
  {
   "cell_type": "markdown",
   "id": "turkish-kidney",
   "metadata": {
    "id": "turkish-kidney"
   },
   "source": [
    "# [A] Fácil (deben completarse todos para aprobar)\n",
    "\n",
    "1. Verifica que los valores en las columnas `'order_hour_of_day'` y `'order_dow'` en la tabla orders sean razonables (es decir, `'order_hour_of_day'` oscile entre 0 y 23 y `'order_dow'` oscile entre 0 y 6).\n",
    "2. Crea un gráfico que muestre el número de personas que hacen pedidos dependiendo de la hora del día.\n",
    "3. Crea un gráfico que muestre qué día de la semana la gente hace sus compras.\n",
    "4. Crea un gráfico que muestre el tiempo que la gente espera hasta hacer su siguiente pedido, y comenta sobre los valores mínimos y máximos."
   ]
  },
  {
   "cell_type": "markdown",
   "id": "short-capability",
   "metadata": {
    "id": "short-capability"
   },
   "source": [
    "### [A1] Verifica que los valores sean sensibles"
   ]
  },
  {
   "cell_type": "code",
   "execution_count": 44,
   "id": "growing-fruit",
   "metadata": {
    "id": "growing-fruit"
   },
   "outputs": [
    {
     "name": "stdout",
     "output_type": "stream",
     "text": [
      "Filas con valores fuera del rango en 'order_hour_of_day': 0 filas\n",
      "Filas con valores fuera del rango en 'order_dow': 0 filas\n"
     ]
    }
   ],
   "source": [
    "horas_fuera_rango = data1[(data1['order_hour_of_day'] < 0) | (data1['order_hour_of_day'] > 23)]\n",
    "\n",
    "# Verificar que 'order_dow' esté en el rango [0, 6]\n",
    "dias_fuera_rango = data1[(data1['order_dow'] < 0) | (data1['order_dow'] > 6)]\n",
    "\n",
    "# Mostrar resultados\n",
    "print(f\"Filas con valores fuera del rango en 'order_hour_of_day': {horas_fuera_rango.shape[0]} filas\")\n",
    "print(f\"Filas con valores fuera del rango en 'order_dow': {dias_fuera_rango.shape[0]} filas\")\n",
    "\n"
   ]
  },
  {
   "cell_type": "markdown",
   "id": "7a7af154",
   "metadata": {
    "id": "accessory-malaysia"
   },
   "source": [
    "Todos los valores de cada columna se encuentran dentro del rango solicitado"
   ]
  },
  {
   "cell_type": "markdown",
   "id": "8e6ffaf7",
   "metadata": {},
   "source": [
    "<div class=\"alert alert-block alert-success\">\n",
    "<b>Comentario del revisor </b> <a class=\"tocSkip\"></a>\n",
    "\n",
    "Perfecto, buen trabajo estudiando la sensibilidad de los datos. \n",
    "</div> "
   ]
  },
  {
   "cell_type": "markdown",
   "id": "a6743a70",
   "metadata": {
    "id": "a6743a70"
   },
   "source": [
    "### [A2] Para cada hora del día, ¿cuántas personas hacen órdenes?"
   ]
  },
  {
   "cell_type": "code",
   "execution_count": 45,
   "id": "a36cca27",
   "metadata": {
    "id": "a36cca27"
   },
   "outputs": [
    {
     "data": {
      "image/png": "[encoded data removed]",
      "text/plain": [
       "<Figure size 1000x600 with 1 Axes>"
      ]
     },
     "metadata": {},
     "output_type": "display_data"
    }
   ],
   "source": [
    "import matplotlib.pyplot as plt\n",
    "import seaborn as sns\n",
    "\n",
    "# Agrupar por 'order_hour_of_day' y contar los usuarios únicos ('user_id') que hacen pedidos a cada hora\n",
    "usuarios_por_hora = data1.groupby('order_hour_of_day')['user_id'].nunique()\n",
    "\n",
    "# Crear el gráfico\n",
    "plt.figure(figsize=(10, 6))\n",
    "sns.lineplot(x=usuarios_por_hora.index, y=usuarios_por_hora.values, marker='o')\n",
    "\n",
    "# Añadir título y etiquetas\n",
    "plt.title('Número de Personas que Hacen Pedidos Dependiendo de la Hora del Día', fontsize=14)\n",
    "plt.xlabel('Hora del Día', fontsize=12)\n",
    "plt.ylabel('Número de Personas', fontsize=12)\n",
    "\n",
    "# Mostrar el gráfico\n",
    "plt.grid(True)\n",
    "plt.xticks(range(0, 24))  # Asegura que las horas del día estén correctamente representadas\n",
    "plt.show()"
   ]
  },
  {
   "cell_type": "markdown",
   "id": "e8dfad32",
   "metadata": {},
   "source": [
    "Se observa que la mayor cantidad de personas que hacen pedidos están concentradas entre 10 AM y 15 PM, siento las 11M su valor más alto"
   ]
  },
  {
   "cell_type": "markdown",
   "id": "81e6c368",
   "metadata": {},
   "source": [
    "<div class=\"alert alert-block alert-danger\">\n",
    "<b>Comentario del revisor </b> <a class=\"tocSkip\"></a>\n",
    "\n",
    "~~Perfecto, buen trabajo estudiando la distribución, únicamente te recomendaría no importar las librerías en este apartado sino en la sección inicial del proyecto.~~ \n",
    "</div> \n",
    "\n",
    "<div class=\"alert alert-block alert-success\">\n",
    "<b>Comentario del revisor #2</b> <a class=\"tocSkip\"></a>\n",
    "\n",
    "Perfecto, buen trabajo con las modificaciones.\n",
    "</div> "
   ]
  },
  {
   "cell_type": "markdown",
   "id": "documented-command",
   "metadata": {
    "id": "documented-command"
   },
   "source": [
    "### [A3] ¿Qué día de la semana compran víveres las personas?"
   ]
  },
  {
   "cell_type": "code",
   "execution_count": 46,
   "id": "chief-digit",
   "metadata": {
    "id": "chief-digit"
   },
   "outputs": [
    {
     "data": {
      "image/png": "[encoded data removed]",
      "text/plain": [
       "<Figure size 900x400 with 1 Axes>"
      ]
     },
     "metadata": {},
     "output_type": "display_data"
    }
   ],
   "source": [
    "\n",
    "\n",
    "pedidos_por_dia = data1['order_dow'].value_counts().sort_index()\n",
    "\n",
    "\n",
    "plt.figure(figsize=(9, 4))\n",
    "sns.barplot(x=pedidos_por_dia.index, y=pedidos_por_dia.values, palette='viridis')\n",
    "\n",
    "plt.title('Número de pedidos por día de la semana', fontsize=12)\n",
    "plt.xlabel('Día de la Semana', fontsize=12)\n",
    "plt.ylabel('Número de Pedidos', fontsize=12)\n",
    "\n",
    "\n",
    "dias = ['Lunes', 'Martes', 'Miércoles', 'Jueves', 'Viernes', 'Sábado', 'Domingo']\n",
    "plt.xticks(ticks=range(7), labels=dias, rotation=45)\n",
    "\n",
    "\n",
    "plt.grid(True)\n",
    "plt.show()"
   ]
  },
  {
   "cell_type": "markdown",
   "id": "240de11e",
   "metadata": {},
   "source": [
    "Entre el día lunes y martes es el momento en que se observa mayor cantidad de pedidos realizados, siendo el día lunes aquel que tiene mayor afluencia de estos."
   ]
  },
  {
   "cell_type": "markdown",
   "id": "7cfdb590",
   "metadata": {},
   "source": [
    "<div class=\"alert alert-block alert-danger\">\n",
    "<b>Comentario del revisor </b> <a class=\"tocSkip\"></a>\n",
    "\n",
    "~~Excelente, buen trabajo estudiando la distribución, únicamente te recomendaría no importar las librerías en este apartado sino en la sección inicial del proyecto.~~ \n",
    "</div> "
   ]
  },
  {
   "cell_type": "markdown",
   "id": "c156c5ff",
   "metadata": {},
   "source": [
    "<div class=\"alert alert-block alert-success\">\n",
    "<b>Comentario del revisor #2</b> <a class=\"tocSkip\"></a>\n",
    "\n",
    "Excelente, muy buen trabajo.  \n",
    "</div> "
   ]
  },
  {
   "cell_type": "markdown",
   "id": "cutting-concert",
   "metadata": {
    "id": "cutting-concert"
   },
   "source": [
    "### [A4] ¿Cuánto tiempo esperan las personas hasta hacer otro pedido? Comenta sobre los valores mínimos y máximos."
   ]
  },
  {
   "cell_type": "code",
   "execution_count": 47,
   "id": "c231f523",
   "metadata": {
    "id": "c231f523"
   },
   "outputs": [
    {
     "data": {
      "image/png": "[encoded data removed]",
      "text/plain": [
       "<Figure size 1000x600 with 1 Axes>"
      ]
     },
     "metadata": {},
     "output_type": "display_data"
    },
    {
     "name": "stdout",
     "output_type": "stream",
     "text": [
      "Tiempo mínimo de espera: 0.0 horas\n",
      "Tiempo máximo de espera: 23.0 horas\n"
     ]
    }
   ],
   "source": [
    "\n",
    "data1['order_datetime'] = pd.to_datetime(data1['order_hour_of_day'], format='%H')\n",
    "\n",
    "\n",
    "data1 = data1.sort_values(by=['user_id', 'order_datetime'])\n",
    "\n",
    "\n",
    "data1['time_diff'] = data1.groupby('user_id')['order_datetime'].diff()\n",
    "\n",
    "\n",
    "time_diff = data1['time_diff'].dropna()\n",
    "\n",
    "\n",
    "time_diff_seconds = time_diff.dt.total_seconds() / 3600  # Convertimos a horas\n",
    "\n",
    "\n",
    "plt.figure(figsize=(10, 6))\n",
    "sns.histplot(time_diff_seconds, kde=True, color='blue', bins=50)\n",
    "\n",
    "\n",
    "plt.title('Distribución del Tiempo de Espera entre Pedidos (en horas)', fontsize=14)\n",
    "plt.xlabel('Tiempo de Espera entre Pedidos (en horas)', fontsize=12)\n",
    "plt.ylabel('Frecuencia', fontsize=12)\n",
    "\n",
    "\n",
    "plt.grid(True)\n",
    "plt.show()\n",
    "\n",
    "# Calcular los valores mínimos y máximos\n",
    "min_time_diff = time_diff_seconds.min()\n",
    "max_time_diff = time_diff_seconds.max()\n",
    "\n",
    "print(f\"Tiempo mínimo de espera: {min_time_diff} horas\")\n",
    "print(f\"Tiempo máximo de espera: {max_time_diff} horas\")"
   ]
  },
  {
   "cell_type": "markdown",
   "id": "3060791b",
   "metadata": {},
   "source": [
    "El gráfico muestra una distribución de frecuencias del tiempo de espera entre pedidos.Se observa que está concentrado al lado izquierdo; lo que significa que las mayores frecuencias de pedidos se observan en las primeras 2-3 horas desde el primer pedido"
   ]
  },
  {
   "cell_type": "markdown",
   "id": "0876e6ad",
   "metadata": {},
   "source": [
    "<div class=\"alert alert-block alert-danger\">\n",
    "<b>Comentario del revisor </b> <a class=\"tocSkip\"></a>\n",
    "\n",
    "~~Nuevamente, buen trabajo estudiando la distribución, solo ten en cuenta no importar las librerías en este apartado sino en la sección inicial del proyecto.~~ \n",
    "</div> "
   ]
  },
  {
   "cell_type": "markdown",
   "id": "aca36d55",
   "metadata": {},
   "source": [
    "<div class=\"alert alert-block alert-success\">\n",
    "<b>Comentario del revisor #2</b> <a class=\"tocSkip\"></a>\n",
    "\n",
    "Muy buen trabajo.\n",
    "</div> "
   ]
  },
  {
   "cell_type": "markdown",
   "id": "tight-staff",
   "metadata": {
    "id": "tight-staff"
   },
   "source": [
    "# [B] Intermedio (deben completarse todos para aprobar)\n",
    "\n",
    "1. ¿Existe alguna diferencia entre las distribuciones `'order_hour_of_day'` de los miércoles y los sábados? Traza gráficos de barra de `'order_hour_of_day'` para ambos días en la misma figura y describe las diferencias que observes.\n",
    "2. Grafica la distribución para el número de órdenes que hacen los clientes (es decir, cuántos clientes hicieron solo 1 pedido, cuántos hicieron 2, cuántos 3, y así sucesivamente...).\n",
    "3. ¿Cuáles son los 20 principales productos que se piden con más frecuencia (muestra su identificación y nombre)?"
   ]
  },
  {
   "cell_type": "markdown",
   "id": "packed-classic",
   "metadata": {
    "id": "packed-classic"
   },
   "source": [
    "### [B1] Diferencia entre miércoles y sábados para  `'order_hour_of_day'`. Traza gráficos de barra para los dos días y describe las diferencias que veas."
   ]
  },
  {
   "cell_type": "code",
   "execution_count": 48,
   "id": "d89b8403",
   "metadata": {
    "id": "d89b8403"
   },
   "outputs": [
    {
     "data": {
      "image/png": "[encoded data removed]",
      "text/plain": [
       "<Figure size 1400x800 with 1 Axes>"
      ]
     },
     "metadata": {},
     "output_type": "display_data"
    }
   ],
   "source": [
    "miercoles = data1[data1['order_dow'] == 3]\n",
    "\n",
    "pedidos_miercoles = miercoles['order_hour_of_day'].value_counts().sort_index()\n",
    "\n",
    "\n",
    "# Crear la figura para el gráfico\n",
    "plt.figure(figsize=(14, 8))\n",
    "\n",
    "# Graficar la distribución de pedidos para los miércoles\n",
    "sns.barplot(x=pedidos_miercoles.index, y=pedidos_miercoles.values, color='blue', label='Miércoles', alpha=0.6)\n",
    "\n",
    "# Añadir título y etiquetas\n",
    "plt.title('Distribución de Pedidos por Hora del Día: Miércoles ', fontsize=16)\n",
    "plt.xlabel('Hora del Día', fontsize=12)\n",
    "plt.ylabel('Número de Pedidos', fontsize=12)\n",
    "\n",
    "\n",
    "# Mostrar el gráfico\n",
    "plt.grid(True)\n",
    "plt.xticks(range(24))  # Asegurar que las horas estén representadas correctamente\n",
    "plt.show()"
   ]
  },
  {
   "cell_type": "code",
   "execution_count": 49,
   "id": "94e54e8a",
   "metadata": {
    "id": "94e54e8a"
   },
   "outputs": [
    {
     "data": {
      "image/png": "[encoded data removed]",
      "text/plain": [
       "<Figure size 1400x800 with 1 Axes>"
      ]
     },
     "metadata": {},
     "output_type": "display_data"
    }
   ],
   "source": [
    "\n",
    "sabados = data1[data1['order_dow'] == 6]\n",
    "\n",
    "\n",
    "pedidos_sabados = sabados['order_hour_of_day'].value_counts().sort_index()\n",
    "\n",
    "# Crear la figura para el gráfico\n",
    "plt.figure(figsize=(14, 8))\n",
    "\n",
    "\n",
    "\n",
    "# Graficar la distribución de pedidos para los sábados\n",
    "sns.barplot(x=pedidos_sabados.index, y=pedidos_sabados.values, color='orange', label='Sábado', alpha=0.6)\n",
    "\n",
    "# Añadir título y etiquetas\n",
    "plt.title('Distribución de Pedidos por Hora del Día:  Sábado', fontsize=16)\n",
    "plt.xlabel('Hora del Día', fontsize=12)\n",
    "plt.ylabel('Número de Pedidos', fontsize=12)\n",
    "\n",
    "\n",
    "\n",
    "# Mostrar el gráfico\n",
    "plt.grid(True)\n",
    "plt.xticks(range(24))  # Asegurar que las horas estén representadas correctamente\n",
    "plt.show()"
   ]
  },
  {
   "cell_type": "markdown",
   "id": "7ff8dafc",
   "metadata": {},
   "source": [
    "A grandes rasgos, el día miércoles puede tener una distribución más uniforme a lo largo del día, con aumentos significativos entre las 6 y 9 AM y disminución de los pedidos entre 3PM Y 7 PM.La mayor concentración de pedidos se observa a las 3 PM pra luego empezar a decaer. El día sabado tiene una distribución similar, la mayor cantidad de pedidos se observa a las 2 PM, momento en que luego empiezan a decaer estos.En la mañan tambien se observa un aumento significativo de pedidos entre 6 y 9 AM"
   ]
  },
  {
   "cell_type": "markdown",
   "id": "d5ee3f07",
   "metadata": {},
   "source": [
    "<div class=\"alert alert-block alert-danger\">\n",
    "<b>Comentario del revisor </b> <a class=\"tocSkip\"></a>\n",
    "\n",
    "~~Excelente, muy buen trabajo con el estudio de las dos distribuciones. Únicamente ten en mente el tema de las librerías. ~~\n",
    "</div> "
   ]
  },
  {
   "cell_type": "markdown",
   "id": "d50f8588",
   "metadata": {},
   "source": [
    "<div class=\"alert alert-block alert-success\">\n",
    "<b>Comentario del revisor #2</b> <a class=\"tocSkip\"></a>\n",
    "\n",
    "Muy buen trabajo.  \n",
    "</div> "
   ]
  },
  {
   "cell_type": "markdown",
   "id": "e3891143",
   "metadata": {
    "id": "e3891143"
   },
   "source": [
    "### [B2] ¿Cuál es la distribución para el número de pedidos por cliente?"
   ]
  },
  {
   "cell_type": "code",
   "execution_count": 50,
   "id": "d8c26c23",
   "metadata": {
    "id": "d8c26c23"
   },
   "outputs": [
    {
     "data": {
      "image/png": "[encoded data removed]",
      "text/plain": [
       "<Figure size 1000x600 with 1 Axes>"
      ]
     },
     "metadata": {},
     "output_type": "display_data"
    }
   ],
   "source": [
    "# Contar el número de pedidos realizados por cada cliente (user_id)\n",
    "pedidos_por_cliente = data1['user_id'].value_counts()\n",
    "\n",
    "# Crear el gráfico de distribución\n",
    "plt.figure(figsize=(10, 6))\n",
    "sns.histplot(pedidos_por_cliente, kde=False, color='green', bins=range(1, pedidos_por_cliente.max()+2))\n",
    "\n",
    "# Añadir título y etiquetas\n",
    "plt.title('Distribución del Número de Pedidos Realizados por Clientes', fontsize=14)\n",
    "plt.xlabel('Número de Pedidos', fontsize=12)\n",
    "plt.ylabel('Número de Clientes', fontsize=12)\n",
    "\n",
    "# Mostrar el gráfico\n",
    "plt.grid(True)\n",
    "plt.show()"
   ]
  },
  {
   "cell_type": "markdown",
   "id": "39d231e1",
   "metadata": {
    "id": "00e69a66"
   },
   "source": [
    "Se observa que hay una tendencia significativa de los clientes a realizar solo un pedido(más de 5mil). También es posible ver que a medida que el número de pedidos aumenta, es probable que la cantidad de clientes que tengan esta tendencia disminuyan, creando la distribucion que se observa en el  gráfico: decayendo a medida que aumenta el número de pedidos."
   ]
  },
  {
   "cell_type": "markdown",
   "id": "dd752085",
   "metadata": {},
   "source": [
    "<div class=\"alert alert-block alert-danger\">\n",
    "<b>Comentario del revisor </b> <a class=\"tocSkip\"></a>\n",
    "\n",
    "~~Muy buen trabajo. Únicamente ten en mente el tema de las librerías.~~ \n",
    "</div> "
   ]
  },
  {
   "cell_type": "markdown",
   "id": "0d9a4ebc",
   "metadata": {},
   "source": [
    "<div class=\"alert alert-block alert-success\">\n",
    "<b>Comentario del revisor #2</b> <a class=\"tocSkip\"></a>\n",
    "\n",
    "Buen trabajo.  \n",
    "</div> "
   ]
  },
  {
   "cell_type": "markdown",
   "id": "54a0319c",
   "metadata": {
    "id": "54a0319c"
   },
   "source": [
    "### [B3] ¿Cuáles son los 20 productos más populares (muestra su ID y nombre)?"
   ]
  },
  {
   "cell_type": "code",
   "execution_count": 51,
   "id": "exterior-arizona",
   "metadata": {
    "id": "exterior-arizona",
    "scrolled": true
   },
   "outputs": [
    {
     "name": "stdout",
     "output_type": "stream",
     "text": [
      "    product_id  cantidad_pedidos              product_name\n",
      "0        24852             66050                    BANANA\n",
      "1        13176             53297    BAG OF ORGANIC BANANAS\n",
      "2        21137             37039      ORGANIC STRAWBERRIES\n",
      "3        21903             33971      ORGANIC BABY SPINACH\n",
      "4        47209             29773      ORGANIC HASS AVOCADO\n",
      "5        47766             24689           ORGANIC AVOCADO\n",
      "6        47626             21495               LARGE LEMON\n",
      "7        16797             20018              STRAWBERRIES\n",
      "8        26209             19690                     LIMES\n",
      "9        27845             19600        ORGANIC WHOLE MILK\n",
      "10       27966             19197       ORGANIC RASPBERRIES\n",
      "11       22935             15898      ORGANIC YELLOW ONION\n",
      "12       24964             15292            ORGANIC GARLIC\n",
      "13       45007             14584          ORGANIC ZUCCHINI\n",
      "14       39275             13879       ORGANIC BLUEBERRIES\n",
      "15       49683             13675            CUCUMBER KIRBY\n",
      "16       28204             12544        ORGANIC FUJI APPLE\n",
      "17        5876             12232             ORGANIC LEMON\n",
      "18        8277             11993  APPLE HONEYCRISP ORGANIC\n",
      "19       40706             11781    ORGANIC GRAPE TOMATOES\n"
     ]
    }
   ],
   "source": [
    "productos_frecuentes = data5['product_id'].value_counts().head(20)\n",
    "\n",
    "\n",
    "productos_frecuentes = productos_frecuentes.reset_index()\n",
    "productos_frecuentes.columns = ['product_id', 'cantidad_pedidos']\n",
    "productos_frecuentes['product_id'] = productos_frecuentes['product_id'].astype(int)\n",
    "\n",
    "\n",
    "data2 = data2.dropna(subset=['product_id', 'product_name'])\n",
    "\n",
    "data2['product_id'] = data2['product_id'].astype(int)\n",
    "\n",
    "\n",
    "productos_frecuentes_df = productos_frecuentes.merge(data2[['product_id', 'product_name']], on='product_id', how='left')\n",
    "print(productos_frecuentes_df)"
   ]
  },
  {
   "cell_type": "markdown",
   "id": "7df00f47",
   "metadata": {
    "id": "7df00f47"
   },
   "source": [
    "El producto más popular entre los clientes es BANANA, seguido de BAG OF ORGNIC BANANAS."
   ]
  },
  {
   "cell_type": "markdown",
   "id": "9e8513ec",
   "metadata": {},
   "source": [
    "<div class=\"alert alert-block alert-success\">\n",
    "<b>Comentario del revisor </b> <a class=\"tocSkip\"></a>\n",
    "\n",
    "Excelente, buen trabajo estructurando el listado. </div> "
   ]
  },
  {
   "cell_type": "markdown",
   "id": "gross-theme",
   "metadata": {
    "id": "gross-theme"
   },
   "source": [
    "# [C] Difícil (deben completarse todos para aprobar)\n",
    "\n",
    "1. ¿Cuántos artículos suelen comprar las personas en un pedido? ¿Cómo es la distribución?\n",
    "2. ¿Cuáles son los 20 principales artículos que vuelven a pedirse con mayor frecuencia (muestra sus nombres e IDs de los productos)?\n",
    "3. Para cada producto, ¿cuál es la tasa de repetición del pedido (número de repeticiones de pedido/total de pedidos?\n",
    "4. Para cada cliente, ¿qué proporción de los productos que pidió ya los había pedido? Calcula la tasa de repetición de pedido para cada usuario en lugar de para cada producto.\n",
    "5. ¿Cuáles son los 20 principales artículos que la gente pone primero en sus carritos (muestra las IDs de los productos, sus nombres, y el número de veces en que fueron el primer artículo en añadirse al carrito)?"
   ]
  },
  {
   "cell_type": "markdown",
   "id": "romantic-deposit",
   "metadata": {
    "id": "romantic-deposit"
   },
   "source": [
    "### [C1] ¿Cuántos artículos compran normalmente las personas en un pedido? ¿Cómo es la distribución?"
   ]
  },
  {
   "cell_type": "code",
   "execution_count": 52,
   "id": "virtual-punch",
   "metadata": {
    "id": "virtual-punch",
    "scrolled": true
   },
   "outputs": [
    {
     "data": {
      "image/png": "[encoded data removed]",
      "text/plain": [
       "<Figure size 1000x600 with 1 Axes>"
      ]
     },
     "metadata": {},
     "output_type": "display_data"
    }
   ],
   "source": [
    "# Contar el número de productos por pedido\n",
    "productos_por_pedido = data5.groupby('order_id').size()\n",
    "\n",
    "# Graficar la distribución\n",
    "plt.figure(figsize=(10, 6))\n",
    "sns.histplot(productos_por_pedido, bins=30, kde=True, color='skyblue', stat='density')\n",
    "plt.title('Distribución del número de productos por pedido')\n",
    "plt.xlabel('Número de productos por pedido')\n",
    "plt.ylabel('Densidad')\n",
    "plt.show()"
   ]
  },
  {
   "cell_type": "markdown",
   "id": "2d065c8b",
   "metadata": {
    "id": "sensitive-breathing"
   },
   "source": [
    "El gráfico muestra un pico alrededor de un valor  lo largo del eje de las abcisas, esto indica que el número más común de productos comprados por pedido está entre 1 y 10.\n",
    "Esto hace concluir que es muy común que los pedidos realizados sean de pocos productos, no asi pedidos más numerosos: de 20 o más productos.Hy una pequeñ cntidad de clientes que realizn pedidos con mayor cantidad de productos."
   ]
  },
  {
   "cell_type": "markdown",
   "id": "d41eed79",
   "metadata": {},
   "source": [
    "<div class=\"alert alert-block alert-danger\">\n",
    "<b>Comentario del revisor </b> <a class=\"tocSkip\"></a>\n",
    "\n",
    "~~Buen trabajo, únicamente ten en cuenta el tema de las librerías.~~ </div> "
   ]
  },
  {
   "cell_type": "markdown",
   "id": "252290d9",
   "metadata": {},
   "source": [
    "<div class=\"alert alert-block alert-success\">\n",
    "<b>Comentario del revisor #2</b> <a class=\"tocSkip\"></a>\n",
    "\n",
    "Excelente, buen trabajo.  \n",
    "</div> "
   ]
  },
  {
   "cell_type": "markdown",
   "id": "5e6b5537",
   "metadata": {
    "id": "5e6b5537"
   },
   "source": [
    "### [C2] ¿Cuáles son los 20 principales artículos que vuelven a pedirse con mayor frecuencia (muestra sus nombres e IDs de los productos)?"
   ]
  },
  {
   "cell_type": "code",
   "execution_count": 53,
   "id": "possible-change",
   "metadata": {
    "id": "possible-change",
    "scrolled": true
   },
   "outputs": [
    {
     "name": "stdout",
     "output_type": "stream",
     "text": [
      "    product_id              product_name  cantidad_reordenes\n",
      "0        24852                    BANANA               55022\n",
      "1        13176    BAG OF ORGANIC BANANAS               43834\n",
      "2        21137      ORGANIC STRAWBERRIES               28239\n",
      "3        21903      ORGANIC BABY SPINACH               25839\n",
      "4        47209      ORGANIC HASS AVOCADO               23349\n",
      "5        47766           ORGANIC AVOCADO               18489\n",
      "6        27845        ORGANIC WHOLE MILK               16041\n",
      "7        47626               LARGE LEMON               14821\n",
      "8        27966       ORGANIC RASPBERRIES               14512\n",
      "9        16797              STRAWBERRIES               13722\n",
      "10       26209                     LIMES               13060\n",
      "11       22935      ORGANIC YELLOW ONION               10974\n",
      "12       24964            ORGANIC GARLIC               10231\n",
      "13       45007          ORGANIC ZUCCHINI                9917\n",
      "14       49683            CUCUMBER KIRBY                9410\n",
      "15       28204        ORGANIC FUJI APPLE                8831\n",
      "16        8277  APPLE HONEYCRISP ORGANIC                8704\n",
      "17       39275       ORGANIC BLUEBERRIES                8646\n",
      "18        5876             ORGANIC LEMON                8247\n",
      "19       49235       ORGANIC HALF & HALF                8245\n"
     ]
    }
   ],
   "source": [
    "# Paso 1: Filtrar data1 para 'order_number' > 1 y 'days_since_prior_order' > 0 del data frame 'instacart_orders'\n",
    "data1_filtrado = data1[(data1['order_number'] > 1) & (data1['days_since_prior_order'] > 0)].copy()  # Crear una copia explícita\n",
    "\n",
    "# Paso 2: Asegurar que 'order_id' en data1_filtrado y data5_filtrado sean del mismo tipo\n",
    "data1_filtrado['order_id'] = data1_filtrado['order_id'].astype(str)  # Convertir a string\n",
    "data5['order_id'] = data5['order_id'].astype(str)  # Convertir a string\n",
    "\n",
    "# Paso 3: Filtrar data5 para 'reordered' = 1 \n",
    "data5_filtrado = data5[data5['reordered'] == 1]\n",
    "\n",
    "# Paso 4: Unir data1_filtrado y data5_filtrado para obtener pedidos relevantes\n",
    "data_merged = data5_filtrado.merge(data1_filtrado[['order_id']], on='order_id', how='inner')\n",
    "\n",
    "# Paso 5: Contar los productos vueltos a pedir\n",
    "productos_reordenados = data_merged['product_id'].value_counts().head(20)\n",
    "\n",
    "# Convertir a DataFrame para estructurar los resultados\n",
    "productos_reordenados = productos_reordenados.reset_index()\n",
    "productos_reordenados.columns = ['product_id', 'cantidad_reordenes']\n",
    "\n",
    "# Paso 6: Asegurarnos de que 'product_id' sea del tipo adecuado\n",
    "productos_reordenados['product_id'] = productos_reordenados['product_id'].astype(int)\n",
    "\n",
    "# Paso 7: Unir con data2 para obtener los nombres de los productos\n",
    "data2 = data2.dropna(subset=['product_id', 'product_name'])\n",
    "data2['product_id'] = data2['product_id'].astype(int)\n",
    "\n",
    "productos_reordenados_df = productos_reordenados.merge(data2[['product_id', 'product_name']], on='product_id', how='left')\n",
    "\n",
    "\n",
    "print(productos_reordenados_df[['product_id', 'product_name', 'cantidad_reordenes']])\n"
   ]
  },
  {
   "cell_type": "markdown",
   "id": "b11115b2",
   "metadata": {
    "id": "professional-surfing",
    "scrolled": true
   },
   "source": [
    "El producto qué más se vuelve a comprar es BANANA,que es a su vez, el producto preferido de los clientes en general.Sin embargo, hay un producto que no está entre los comprados con mayor frecuencia pero si es de lo que más se vuelven a pedir y es ORGANIC HALF & HALF con 8245 veces que se volvió a pedir.A su vez, el producto ORGANIC GRAPE TOMATOES estuvo dentro de los más pedidos con 40706 pero no está dentro de los 20 primeros productos que se vuelven a pedir."
   ]
  },
  {
   "cell_type": "markdown",
   "id": "1ab22e9e",
   "metadata": {
    "id": "48dd3658"
   },
   "source": [
    "Esto puede indicar que ORGANIC HALF % HALF es un producto que cuenta con mucho consumo entre los clientes y se debe cuidar que se siga vendiendo con este ritmo.Por otra parte, ORGANIC GRAPE TOMATOES es un producto que los clientes compran mucho por primera vez pero no lo vuelven a comprar con tanta frecuencia, se debe observar qué ocurre ahí; puede ser algo relacionado a la calidad de este (durabilidad, sabor, etc.)"
   ]
  },
  {
   "cell_type": "markdown",
   "id": "c80ecadc",
   "metadata": {},
   "source": [
    "<div class=\"alert alert-block alert-success\">\n",
    "<b>Comentario del revisor </b> <a class=\"tocSkip\"></a>\n",
    "\n",
    "Excelente, buen trabajo estructurando la tabla. </div> "
   ]
  },
  {
   "cell_type": "markdown",
   "id": "9d312b14",
   "metadata": {
    "id": "9d312b14"
   },
   "source": [
    "### [C3] Para cada producto, ¿cuál es la proporción de las veces que se pide y que se vuelve a pedir?"
   ]
  },
  {
   "cell_type": "code",
   "execution_count": 54,
   "id": "103e7fe1",
   "metadata": {
    "id": "103e7fe1"
   },
   "outputs": [
    {
     "name": "stdout",
     "output_type": "stream",
     "text": [
      "      product_id  total_pedidos  veces_reordenado  proporcion_reordenes\n",
      "0              1            280             158.0              0.564286\n",
      "1             10            337             151.0              0.448071\n",
      "2            100             61              39.0              0.639344\n",
      "3           1000            390             163.0              0.417949\n",
      "4          10000              4               3.0              0.750000\n",
      "...          ...            ...               ...                   ...\n",
      "45568       9993              6               0.0              0.000000\n",
      "45569       9995             29              14.0              0.482759\n",
      "45570       9996            168              38.0              0.226190\n",
      "45571       9997              7               2.0              0.285714\n",
      "45572       9999              1               0.0              0.000000\n",
      "\n",
      "[45573 rows x 4 columns]\n"
     ]
    }
   ],
   "source": [
    "# Paso 1: Agrupar por 'product_id' y contar cuántas veces se pide cada producto\n",
    "total_pedidos = data5.groupby('product_id').size().reset_index(name='total_pedidos')\n",
    "\n",
    "# Paso 2: Filtrar los productos reordenados (reordered == 1) y contar cuántas veces se reordenaron\n",
    "reordenes = data5[data5['reordered'] == 1].groupby('product_id').size().reset_index(name='veces_reordenado')\n",
    "\n",
    "# Paso 3: Unir las dos tablas para obtener tanto 'total_pedidos' como 'veces_reordenado' por 'product_id'\n",
    "proporciones = total_pedidos.merge(reordenes, on='product_id', how='left')\n",
    "\n",
    "# Paso 4: Llenar los valores NaN en 'veces_reordenado' con 0 (para productos que no han sido reordenados)\n",
    "proporciones['veces_reordenado'] = proporciones['veces_reordenado'].fillna(0)\n",
    "\n",
    "# Paso 5: Calcular la proporción entre los pedidos y los reordenes\n",
    "proporciones['proporcion_reordenes'] = proporciones['veces_reordenado'] / proporciones['total_pedidos']\n",
    "\n",
    "# Paso 6: Visualización del resultado\n",
    "print(proporciones[['product_id', 'total_pedidos', 'veces_reordenado', 'proporcion_reordenes']])\n",
    "\n",
    "\n"
   ]
  },
  {
   "cell_type": "code",
   "execution_count": 55,
   "id": "social-individual",
   "metadata": {
    "id": "social-individual"
   },
   "outputs": [
    {
     "name": "stdout",
     "output_type": "stream",
     "text": [
      "Cantidad de valores NaN en 'proporcion_reordenes': 0\n",
      "Cantidad de valores cero en 'proporcion_reordenes': 9345\n"
     ]
    }
   ],
   "source": [
    "# Contar los valores NaN en la columna 'proporcion_reordenes'\n",
    "valores_nan = proporciones['proporcion_reordenes'].isna().sum()\n",
    "\n",
    "# Contar los valores cero en la columna 'proporcion_reordenes'\n",
    "valores_cero = (proporciones['proporcion_reordenes'] == 0).sum()\n",
    "\n",
    "# Mostrar los resultados\n",
    "print(f\"Cantidad de valores NaN en 'proporcion_reordenes': {valores_nan}\")\n",
    "print(f\"Cantidad de valores cero en 'proporcion_reordenes': {valores_cero}\")\n"
   ]
  },
  {
   "cell_type": "code",
   "execution_count": 56,
   "id": "70273cc8",
   "metadata": {},
   "outputs": [
    {
     "name": "stdout",
     "output_type": "stream",
     "text": [
      "Cantidad de valores mayores a 0 en 'proporcion_reordenes': 36228\n"
     ]
    }
   ],
   "source": [
    "# Contar cuántos valores en 'proporcion_reordenes' son mayores a 0\n",
    "valores_mayores_a_cero = proporciones[proporciones['proporcion_reordenes'] > 0].shape[0]\n",
    "\n",
    "# Mostrar el resultado\n",
    "print(f\"Cantidad de valores mayores a 0 en 'proporcion_reordenes': {valores_mayores_a_cero}\")\n",
    "\n"
   ]
  },
  {
   "cell_type": "markdown",
   "id": "I10dEIAyldcO",
   "metadata": {
    "id": "I10dEIAyldcO"
   },
   "source": [
    "Escribe aquí tus conclusiones"
   ]
  },
  {
   "cell_type": "markdown",
   "id": "9e226489",
   "metadata": {},
   "source": [
    "Se tienen 9345 proporciones iguales a cero o NaN, esto porque la columna de 'veces_reordenado' que indica las veces que se ordenó nuevamente un producto es igual a cero, por lo tanto, hubo 9345 productos que se ordenaron solo una vez.Por otro lado, son 36288 valores distintos a cero, es decir, 36288 productos fueron ordendos nuevamente."
   ]
  },
  {
   "cell_type": "markdown",
   "id": "9755fe84",
   "metadata": {},
   "source": [
    "<div class=\"alert alert-block alert-success\">\n",
    "<b>Comentario del revisor </b> <a class=\"tocSkip\"></a>\n",
    "\n",
    "Excelente, muy buen trabajo con el desarrollo de los cálculos de las proporciones.  </div> "
   ]
  },
  {
   "cell_type": "markdown",
   "id": "subject-boxing",
   "metadata": {
    "id": "subject-boxing"
   },
   "source": [
    "### [C4] Para cada cliente, ¿qué proporción de sus productos ya los había pedido?"
   ]
  },
  {
   "cell_type": "code",
   "execution_count": null,
   "id": "medical-couple",
   "metadata": {
    "id": "medical-couple",
    "scrolled": true
   },
   "outputs": [],
   "source": [
    "# Asegurar que ambas columnas 'order_id' sean del mismo tipo\n",
    "data5['order_id'] = data5['order_id'].astype(str)  # Convierte 'order_id' en data5 a string\n",
    "data1['order_id'] = data1['order_id'].astype(str)  # Convierte 'order_id' en data1 a string\n",
    "\n",
    "# Paso 1: Unir data5 con data1 por 'order_id' para obtener 'user_id'\n",
    "merged_data = data5.merge(data1[['order_id', 'user_id']], on='order_id', how='left')\n",
    "\n",
    "# Paso 2: Contar cuántas veces se pide cada producto (total_pedidos) por 'user_id' y 'product_id'\n",
    "pedidos_totales = merged_data.groupby(['user_id', 'product_id']).size().reset_index(name='total_pedidos')\n",
    "\n",
    "# Paso 3: Filtrar solo los productos que han sido reordenados (reordered == 1) y contar cuántas veces se reordenan\n",
    "reordenes = merged_data[merged_data['reordered'] == 1].groupby(['user_id', 'product_id']).size().reset_index(name='veces_reordenado')\n",
    "\n",
    "# Paso 4: Unir las dos tablas para obtener tanto 'total_pedidos' como 'veces_reordenado' por 'user_id' y 'product_id'\n",
    "proporciones = pedidos_totales.merge(reordenes, on=['user_id', 'product_id'], how='left')\n",
    "\n",
    "# Paso 5: Llenar los valores NaN en 'veces_reordenado' con 0 (para productos que no han sido reordenados)\n",
    "proporciones['veces_reordenado'] = proporciones['veces_reordenado'].fillna(0)\n",
    "\n",
    "# Paso 6: Calcular la proporción entre los pedidos y los reordenes\n",
    "proporciones['proporcion_reordenes'] = proporciones['veces_reordenado'] / proporciones['total_pedidos']\n",
    "\n",
    "# Paso 7: Visualización del resultado\n",
    "print(proporciones[['user_id', 'product_id', 'total_pedidos', 'veces_reordenado', 'proporcion_reordenes']])\n"
   ]
  },
  {
   "cell_type": "code",
   "execution_count": null,
   "id": "8892e4b4",
   "metadata": {
    "id": "8892e4b4"
   },
   "outputs": [],
   "source": [
    "# Contar los valores NaN en la columna 'proporcion_reordenes'\n",
    "valores_nan = proporciones['proporcion_reordenes'].isna().sum()\n",
    "\n",
    "# Contar los valores cero en la columna 'proporcion_reordenes'\n",
    "valores_cero = (proporciones['proporcion_reordenes'] == 0).sum()\n",
    "\n",
    "# Mostrar los resultados\n",
    "print(f\"Cantidad de valores NaN en 'proporcion_reordenes': {valores_nan}\")\n",
    "print(f\"Cantidad de valores cero en 'proporcion_reordenes': {valores_cero}\")"
   ]
  },
  {
   "cell_type": "code",
   "execution_count": null,
   "id": "b8e289dd",
   "metadata": {},
   "outputs": [],
   "source": [
    "# Contar los valores iguales a 1 en la columna 'proporcion_reordenes'\n",
    "valores_igual_a_1 = proporciones[proporciones['proporcion_reordenes'] == 1].shape[0]\n",
    "\n",
    "# Mostrar el resultado\n",
    "print(f\"Cantidad de valores iguales a 1 en 'proporcion_reordenes': {valores_igual_a_1}\")\n"
   ]
  },
  {
   "cell_type": "code",
   "execution_count": null,
   "id": "24f50f4f",
   "metadata": {},
   "outputs": [],
   "source": [
    "# Contar los valores iguales a 1 en la columna 'proporcion_reordenes'\n",
    "valores_igual_a_1 = proporciones[proporciones['proporcion_reordenes'] >1].shape[0]\n",
    "\n",
    "# Mostrar el resultado\n",
    "print(f\"Cantidad de valores iguales a 1 en 'proporcion_reordenes': {valores_igual_a_1}\")"
   ]
  },
  {
   "cell_type": "markdown",
   "id": "BgJSvXDsleXz",
   "metadata": {
    "id": "BgJSvXDsleXz"
   },
   "source": [
    "Escribe aquí tus conclusiones"
   ]
  },
  {
   "cell_type": "markdown",
   "id": "c49d9f61",
   "metadata": {},
   "source": [
    "Al individualizar los pedidos por cada usuario, se obtiene el total de datos de los dtaframe data1 y data5 sumados.\n",
    "Se observa que hay 16122992 porporciones igual a cero o NaN, lo que significa que hay 16122992 pedidos realizados por todos los clientes que no fueron repetidos.\n",
    "Por otra parte hay 1520695 valores de proporcion igual a 1, lo que significa que 1520695 pedidos realizados por todos los clientes fueron repetidos"
   ]
  },
  {
   "cell_type": "markdown",
   "id": "7d235efd",
   "metadata": {},
   "source": [
    "<div class=\"alert alert-block alert-success\">\n",
    "<b>Comentario del revisor </b> <a class=\"tocSkip\"></a>\n",
    "\n",
    "Perfecto, buen trabajo con el desarrollo del ejercicio.   </div> "
   ]
  },
  {
   "cell_type": "markdown",
   "id": "92d35137",
   "metadata": {
    "id": "92d35137"
   },
   "source": [
    "### [C5] ¿Cuáles son los 20 principales artículos que las personas ponen primero en sus carritos?"
   ]
  },
  {
   "cell_type": "code",
   "execution_count": null,
   "id": "0ae57274",
   "metadata": {
    "id": "0ae57274",
    "scrolled": true
   },
   "outputs": [],
   "source": [
    "# Convertir 'product_id' en ambos dataframes a tipo string para evitar conflictos\n",
    "data5['product_id'] = data5['product_id'].astype(str)\n",
    "data2['product_id'] = data2['product_id'].astype(str)\n",
    "\n",
    "# Paso 1: Filtrar los productos que se agregaron primero al carrito\n",
    "primeros_pedidos = data5[data5['add_to_cart_order'] == 1]\n",
    "\n",
    "# Paso 2: Unir con data1 para obtener 'user_id'\n",
    "primeros_pedidos_con_user = primeros_pedidos.merge(data1[['order_id', 'user_id']], on='order_id', how='left')\n",
    "\n",
    "# Paso 3: Unir con data2 para obtener 'product_name'\n",
    "productos_con_detalles = primeros_pedidos_con_user.merge(data2[['product_id', 'product_name']], on='product_id', how='left')\n",
    "\n",
    "# Paso 4: Contar la cantidad de veces que cada producto aparece\n",
    "producto_counts = productos_con_detalles.groupby(['product_id', 'product_name']).size().reset_index(name='cantidad')\n",
    "\n",
    "# Paso 5: Ordenar los productos por la cantidad de veces que aparecen (de mayor a menor)\n",
    "producto_counts = producto_counts.sort_values(by='cantidad', ascending=False)\n",
    "\n",
    "# Paso 6: Seleccionar los 20 productos más frecuentes\n",
    "top_20_productos = producto_counts.head(20)\n",
    "\n",
    "# Paso 7: Mostrar los resultados\n",
    "print(top_20_productos[['product_id', 'product_name', 'cantidad']])\n"
   ]
  },
  {
   "cell_type": "markdown",
   "id": "c4c9c5b9",
   "metadata": {},
   "source": [
    "<div class=\"alert alert-block alert-success\">\n",
    "<b>Comentario del revisor </b> <a class=\"tocSkip\"></a>\n",
    "\n",
    "Buen trabajo estructurando el listado. "
   ]
  },
  {
   "cell_type": "markdown",
   "id": "28ce9872",
   "metadata": {
    "id": "28ce9872"
   },
   "source": [
    "Nuevamente se observa que BANANA está en primer lugar al considerar los productos que son preferidos para poner primero en e carrito."
   ]
  },
  {
   "cell_type": "markdown",
   "id": "uITbFCEoDosC",
   "metadata": {
    "id": "uITbFCEoDosC"
   },
   "source": [
    "### Conclusion general del proyecto:"
   ]
  },
  {
   "cell_type": "markdown",
   "id": "aab26bd8",
   "metadata": {
    "id": "Nk-4GS7mDwqY"
   },
   "source": [
    "El producto más popular tanto en ventas, en veces que se pide de nuevo y en ser puesto en primer lugar en el carrito es BANANA.\n",
    "El día preferido de los clientes para comprar es el día lunes y el horario, es entre 10 AM y 3 PM, siento las 11 AM su valor más alto.\n",
    "En general los clientes tienden a realizar solo un pedido, por lo que se debe estudiar un programa de fidelización que permita que estos sientan la confianza de realizar pedidos de manera más seguida y así aumentar las ventas.\n",
    "Es necesario incentivar a los clientes a que realicen pedidos mas numerosos, lo que puede ser estudiado mediante encuestas de satisfcción, necesidades, estudios demográficos, etc.\n",
    "Se debe adoptar alguna estrategia para que los 9345 productos que no fueron ordenados nuevamente, lo sean más adelante o al menos disminuir ese número lo máximo posible para aumentar las ventas.Se pueden adoptar estrategias de marketing como ofertas en un día u horario específico.\n",
    "Finalmente en la franja horaria entre 10 AM y 3PM y día se pueden aplicar estrategias que permitan realizar más ventas a los usuarios pues es el momento en que hay mayor cantidad de personas comprando."
   ]
  },
  {
   "cell_type": "markdown",
   "id": "14aafb99",
   "metadata": {},
   "source": [
    "<div class=\"alert alert-block alert-success\">\n",
    "<b>Comentario del revisor </b> <a class=\"tocSkip\"></a>\n",
    "\n",
    "Buen trabajo.  </div> "
   ]
  }
 ],
 "metadata": {
  "ExecuteTimeLog": [
   {
    "duration": 356,
    "start_time": "2024-11-14T01:51:01.224Z"
   },
   {
    "duration": 2624,
    "start_time": "2024-11-14T01:51:03.580Z"
   },
   {
    "duration": 23,
    "start_time": "2024-11-14T01:56:21.387Z"
   },
   {
    "duration": 12,
    "start_time": "2024-11-14T01:56:54.581Z"
   },
   {
    "duration": 8,
    "start_time": "2024-11-14T01:56:56.301Z"
   },
   {
    "duration": 9,
    "start_time": "2024-11-14T01:56:57.690Z"
   },
   {
    "duration": 9,
    "start_time": "2024-11-14T01:56:59.318Z"
   },
   {
    "duration": 5,
    "start_time": "2024-11-14T02:11:57.429Z"
   },
   {
    "duration": 965,
    "start_time": "2024-11-14T02:16:04.099Z"
   },
   {
    "duration": 862,
    "start_time": "2024-11-14T02:29:38.597Z"
   },
   {
    "duration": 7,
    "start_time": "2024-11-14T13:29:11.644Z"
   },
   {
    "duration": 4,
    "start_time": "2024-11-14T13:29:18.053Z"
   },
   {
    "duration": 153,
    "start_time": "2024-11-14T13:29:22.335Z"
   },
   {
    "duration": 269,
    "start_time": "2024-11-14T13:29:38.263Z"
   },
   {
    "duration": 2217,
    "start_time": "2024-11-14T13:29:39.893Z"
   },
   {
    "duration": 21,
    "start_time": "2024-11-14T13:29:42.112Z"
   },
   {
    "duration": 8,
    "start_time": "2024-11-14T13:29:42.135Z"
   },
   {
    "duration": 8,
    "start_time": "2024-11-14T13:29:42.547Z"
   },
   {
    "duration": 7,
    "start_time": "2024-11-14T13:29:43.637Z"
   },
   {
    "duration": 919,
    "start_time": "2024-11-14T13:29:51.654Z"
   },
   {
    "duration": 187,
    "start_time": "2024-11-14T13:29:56.220Z"
   },
   {
    "duration": 170,
    "start_time": "2024-11-14T13:30:10.324Z"
   },
   {
    "duration": 166,
    "start_time": "2024-11-14T13:32:39.043Z"
   },
   {
    "duration": 165,
    "start_time": "2024-11-14T13:32:45.322Z"
   },
   {
    "duration": 162,
    "start_time": "2024-11-14T13:32:57.452Z"
   },
   {
    "duration": 235,
    "start_time": "2024-11-14T15:05:32.188Z"
   },
   {
    "duration": 238,
    "start_time": "2024-11-14T15:06:27.356Z"
   },
   {
    "duration": 124,
    "start_time": "2024-11-14T15:26:24.588Z"
   },
   {
    "duration": 121,
    "start_time": "2024-11-14T15:26:32.579Z"
   },
   {
    "duration": 144,
    "start_time": "2024-11-14T15:27:50.622Z"
   },
   {
    "duration": 149,
    "start_time": "2024-11-14T15:28:35.639Z"
   },
   {
    "duration": 364,
    "start_time": "2024-11-14T20:47:17.970Z"
   },
   {
    "duration": 77,
    "start_time": "2024-11-14T20:57:27.914Z"
   },
   {
    "duration": 13,
    "start_time": "2024-11-14T20:58:29.986Z"
   },
   {
    "duration": 6,
    "start_time": "2024-11-14T20:59:36.921Z"
   },
   {
    "duration": 5,
    "start_time": "2024-11-14T20:59:55.816Z"
   },
   {
    "duration": 8,
    "start_time": "2024-11-14T21:01:11.212Z"
   },
   {
    "duration": 157,
    "start_time": "2024-11-15T03:54:08.455Z"
   },
   {
    "duration": 330,
    "start_time": "2024-11-15T03:54:24.161Z"
   },
   {
    "duration": 2460,
    "start_time": "2024-11-15T03:54:26.351Z"
   },
   {
    "duration": 30,
    "start_time": "2024-11-15T03:54:28.813Z"
   },
   {
    "duration": 12,
    "start_time": "2024-11-15T03:54:29.773Z"
   },
   {
    "duration": 8,
    "start_time": "2024-11-15T03:54:33.882Z"
   },
   {
    "duration": 8,
    "start_time": "2024-11-15T03:54:36.142Z"
   },
   {
    "duration": 7,
    "start_time": "2024-11-15T03:54:37.691Z"
   },
   {
    "duration": 292,
    "start_time": "2024-11-15T03:54:44.026Z"
   },
   {
    "duration": 9,
    "start_time": "2024-11-15T03:54:49.914Z"
   },
   {
    "duration": 162,
    "start_time": "2024-11-15T03:54:54.812Z"
   },
   {
    "duration": 265,
    "start_time": "2024-11-15T03:55:18.983Z"
   },
   {
    "duration": 188,
    "start_time": "2024-11-15T03:55:40.421Z"
   },
   {
    "duration": 249,
    "start_time": "2024-11-15T03:55:46.503Z"
   },
   {
    "duration": 190,
    "start_time": "2024-11-15T03:56:46.703Z"
   },
   {
    "duration": 246,
    "start_time": "2024-11-15T03:57:03.906Z"
   },
   {
    "duration": 94,
    "start_time": "2024-11-15T03:57:59.265Z"
   },
   {
    "duration": 90,
    "start_time": "2024-11-15T03:58:15.905Z"
   },
   {
    "duration": 148,
    "start_time": "2024-11-15T03:58:28.393Z"
   },
   {
    "duration": 22,
    "start_time": "2024-11-15T04:01:28.882Z"
   },
   {
    "duration": 401,
    "start_time": "2024-11-15T04:02:40.626Z"
   },
   {
    "duration": 171,
    "start_time": "2024-11-15T04:02:46.597Z"
   },
   {
    "duration": 237,
    "start_time": "2024-11-15T04:03:54.993Z"
   },
   {
    "duration": 48,
    "start_time": "2024-11-15T04:04:36.371Z"
   },
   {
    "duration": 4,
    "start_time": "2024-11-15T04:05:17.992Z"
   },
   {
    "duration": 159,
    "start_time": "2024-11-16T13:36:59.271Z"
   },
   {
    "duration": 283,
    "start_time": "2024-11-16T13:37:06.515Z"
   },
   {
    "duration": 2187,
    "start_time": "2024-11-16T13:37:07.966Z"
   },
   {
    "duration": 21,
    "start_time": "2024-11-16T13:37:10.155Z"
   },
   {
    "duration": 8,
    "start_time": "2024-11-16T13:37:10.178Z"
   },
   {
    "duration": 7,
    "start_time": "2024-11-16T13:37:10.188Z"
   },
   {
    "duration": 7,
    "start_time": "2024-11-16T13:37:10.439Z"
   },
   {
    "duration": 8,
    "start_time": "2024-11-16T13:37:15.290Z"
   },
   {
    "duration": 931,
    "start_time": "2024-11-16T13:37:18.972Z"
   },
   {
    "duration": 160,
    "start_time": "2024-11-16T22:53:00.102Z"
   },
   {
    "duration": 289,
    "start_time": "2024-11-16T22:53:05.604Z"
   },
   {
    "duration": 2473,
    "start_time": "2024-11-16T22:53:06.692Z"
   },
   {
    "duration": 21,
    "start_time": "2024-11-16T22:53:09.169Z"
   },
   {
    "duration": 10,
    "start_time": "2024-11-16T22:53:09.192Z"
   },
   {
    "duration": 7,
    "start_time": "2024-11-16T22:53:09.204Z"
   },
   {
    "duration": 31,
    "start_time": "2024-11-16T22:53:09.213Z"
   },
   {
    "duration": 6,
    "start_time": "2024-11-16T22:53:09.474Z"
   },
   {
    "duration": 939,
    "start_time": "2024-11-16T22:53:13.949Z"
   },
   {
    "duration": 3,
    "start_time": "2024-11-16T22:57:30.547Z"
   },
   {
    "duration": 2084,
    "start_time": "2024-11-16T22:57:31.900Z"
   },
   {
    "duration": 20,
    "start_time": "2024-11-16T22:57:33.986Z"
   },
   {
    "duration": 8,
    "start_time": "2024-11-16T22:57:34.008Z"
   },
   {
    "duration": 25,
    "start_time": "2024-11-16T22:57:34.018Z"
   },
   {
    "duration": 8,
    "start_time": "2024-11-16T22:57:34.044Z"
   },
   {
    "duration": 6,
    "start_time": "2024-11-16T22:57:34.054Z"
   },
   {
    "duration": 915,
    "start_time": "2024-11-16T22:57:38.039Z"
   },
   {
    "duration": 28,
    "start_time": "2024-11-16T22:57:43.002Z"
   },
   {
    "duration": 20,
    "start_time": "2024-11-16T22:58:12.865Z"
   },
   {
    "duration": 47,
    "start_time": "2024-11-16T22:58:52.615Z"
   },
   {
    "duration": 4,
    "start_time": "2024-11-16T22:58:54.169Z"
   },
   {
    "duration": 35,
    "start_time": "2024-11-16T23:08:15.999Z"
   },
   {
    "duration": 4,
    "start_time": "2024-11-16T23:08:36.021Z"
   },
   {
    "duration": 13,
    "start_time": "2024-11-16T23:08:38.644Z"
   },
   {
    "duration": 7,
    "start_time": "2024-11-16T23:09:40.391Z"
   },
   {
    "duration": 13,
    "start_time": "2024-11-16T23:10:05.085Z"
   },
   {
    "duration": 18,
    "start_time": "2024-11-16T23:11:11.682Z"
   },
   {
    "duration": 7,
    "start_time": "2024-11-16T23:11:23.392Z"
   },
   {
    "duration": 15,
    "start_time": "2024-11-16T23:11:32.557Z"
   },
   {
    "duration": 17,
    "start_time": "2024-11-16T23:11:37.791Z"
   },
   {
    "duration": 6,
    "start_time": "2024-11-16T23:13:23.620Z"
   },
   {
    "duration": 6,
    "start_time": "2024-11-16T23:13:27.283Z"
   },
   {
    "duration": 9,
    "start_time": "2024-11-16T23:14:06.097Z"
   },
   {
    "duration": 13,
    "start_time": "2024-11-16T23:18:34.478Z"
   },
   {
    "duration": 4,
    "start_time": "2024-11-16T23:18:40.575Z"
   },
   {
    "duration": 4,
    "start_time": "2024-11-16T23:23:29.727Z"
   },
   {
    "duration": 3,
    "start_time": "2024-11-16T23:23:39.162Z"
   },
   {
    "duration": 4,
    "start_time": "2024-11-16T23:25:36.519Z"
   },
   {
    "duration": 405,
    "start_time": "2024-11-16T23:25:39.872Z"
   },
   {
    "duration": 40,
    "start_time": "2024-11-16T23:26:12.463Z"
   },
   {
    "duration": 3,
    "start_time": "2024-11-16T23:26:28.604Z"
   },
   {
    "duration": 701,
    "start_time": "2024-11-16T23:36:17.800Z"
   },
   {
    "duration": 0,
    "start_time": "2024-11-16T23:39:54.210Z"
   },
   {
    "duration": 3561,
    "start_time": "2024-11-16T23:39:55.764Z"
   },
   {
    "duration": 3484,
    "start_time": "2024-11-16T23:40:47.293Z"
   },
   {
    "duration": 5,
    "start_time": "2024-11-16T23:43:45.854Z"
   },
   {
    "duration": 9,
    "start_time": "2024-11-16T23:44:04.482Z"
   },
   {
    "duration": 9,
    "start_time": "2024-11-16T23:46:31.078Z"
   },
   {
    "duration": 13,
    "start_time": "2024-11-16T23:47:06.964Z"
   },
   {
    "duration": 7,
    "start_time": "2024-11-16T23:49:42.251Z"
   },
   {
    "duration": 7,
    "start_time": "2024-11-16T23:57:33.798Z"
   },
   {
    "duration": 9,
    "start_time": "2024-11-17T00:07:01.361Z"
   },
   {
    "duration": 8,
    "start_time": "2024-11-17T00:07:41.292Z"
   },
   {
    "duration": 5,
    "start_time": "2024-11-17T00:07:46.584Z"
   },
   {
    "duration": 9,
    "start_time": "2024-11-17T00:07:52.442Z"
   },
   {
    "duration": 8,
    "start_time": "2024-11-17T00:15:57.598Z"
   },
   {
    "duration": 116,
    "start_time": "2024-11-17T00:16:16.384Z"
   },
   {
    "duration": 250,
    "start_time": "2024-11-17T00:19:00.997Z"
   },
   {
    "duration": 6,
    "start_time": "2024-11-17T00:21:46.179Z"
   },
   {
    "duration": 20,
    "start_time": "2024-11-17T00:23:51.430Z"
   },
   {
    "duration": 5,
    "start_time": "2024-11-17T00:26:35.468Z"
   },
   {
    "duration": 124,
    "start_time": "2024-11-17T00:45:30.447Z"
   },
   {
    "duration": 817,
    "start_time": "2024-11-17T00:47:28.013Z"
   },
   {
    "duration": 286,
    "start_time": "2024-11-17T00:48:55.824Z"
   },
   {
    "duration": 2,
    "start_time": "2024-11-17T00:49:01.450Z"
   },
   {
    "duration": 6,
    "start_time": "2024-11-17T00:50:02.475Z"
   },
   {
    "duration": 5,
    "start_time": "2024-11-17T00:51:49.773Z"
   },
   {
    "duration": 7,
    "start_time": "2024-11-17T00:54:59.452Z"
   },
   {
    "duration": 31,
    "start_time": "2024-11-17T00:55:31.976Z"
   },
   {
    "duration": 9,
    "start_time": "2024-11-17T01:08:34.784Z"
   },
   {
    "duration": 2645,
    "start_time": "2024-11-17T01:09:02.098Z"
   },
   {
    "duration": 254,
    "start_time": "2024-11-17T01:09:47.461Z"
   },
   {
    "duration": 8,
    "start_time": "2024-11-17T01:10:31.669Z"
   },
   {
    "duration": 149,
    "start_time": "2024-11-17T01:11:44.881Z"
   },
   {
    "duration": 262,
    "start_time": "2024-11-17T01:11:50.699Z"
   },
   {
    "duration": 257,
    "start_time": "2024-11-17T01:13:55.470Z"
   },
   {
    "duration": 138,
    "start_time": "2024-11-17T01:14:32.434Z"
   },
   {
    "duration": 135,
    "start_time": "2024-11-17T01:14:45.396Z"
   },
   {
    "duration": 23205,
    "start_time": "2024-11-17T01:17:02.777Z"
   },
   {
    "duration": 23127,
    "start_time": "2024-11-17T01:17:42.201Z"
   },
   {
    "duration": 335,
    "start_time": "2024-11-17T01:23:03.110Z"
   },
   {
    "duration": 200,
    "start_time": "2024-11-17T01:24:09.052Z"
   },
   {
    "duration": 196,
    "start_time": "2024-11-17T01:24:48.065Z"
   },
   {
    "duration": 250,
    "start_time": "2024-11-17T01:26:00.193Z"
   },
   {
    "duration": 238,
    "start_time": "2024-11-17T01:26:24.672Z"
   },
   {
    "duration": 729,
    "start_time": "2024-11-17T01:36:47.275Z"
   },
   {
    "duration": 474,
    "start_time": "2024-11-17T01:38:44.220Z"
   },
   {
    "duration": 409,
    "start_time": "2024-11-17T01:38:58.943Z"
   },
   {
    "duration": 414,
    "start_time": "2024-11-17T01:39:12.022Z"
   },
   {
    "duration": 458,
    "start_time": "2024-11-17T01:42:13.426Z"
   },
   {
    "duration": 429,
    "start_time": "2024-11-17T01:42:37.357Z"
   },
   {
    "duration": 445,
    "start_time": "2024-11-17T01:44:54.251Z"
   },
   {
    "duration": 588,
    "start_time": "2024-11-17T01:46:59.618Z"
   },
   {
    "duration": 399,
    "start_time": "2024-11-17T01:48:56.316Z"
   },
   {
    "duration": 3403,
    "start_time": "2024-11-17T01:50:21.186Z"
   },
   {
    "duration": 487,
    "start_time": "2024-11-17T01:55:37.960Z"
   },
   {
    "duration": 503,
    "start_time": "2024-11-17T01:56:24.846Z"
   },
   {
    "duration": 487,
    "start_time": "2024-11-17T01:57:06.288Z"
   },
   {
    "duration": 467,
    "start_time": "2024-11-17T01:57:52.426Z"
   },
   {
    "duration": 161,
    "start_time": "2024-11-17T02:00:16.521Z"
   },
   {
    "duration": 92,
    "start_time": "2024-11-17T02:01:15.590Z"
   },
   {
    "duration": 97,
    "start_time": "2024-11-17T02:02:04.753Z"
   },
   {
    "duration": 6,
    "start_time": "2024-11-17T02:03:27.822Z"
   },
   {
    "duration": 5,
    "start_time": "2024-11-17T02:03:59.415Z"
   },
   {
    "duration": 315,
    "start_time": "2024-11-17T02:04:07.209Z"
   },
   {
    "duration": 73,
    "start_time": "2024-11-17T02:04:50.969Z"
   },
   {
    "duration": 56,
    "start_time": "2024-11-17T02:05:00.947Z"
   },
   {
    "duration": 24,
    "start_time": "2024-11-17T02:05:38.508Z"
   },
   {
    "duration": 45,
    "start_time": "2024-11-17T02:08:47.011Z"
   },
   {
    "duration": 53,
    "start_time": "2024-11-17T02:14:00.528Z"
   },
   {
    "duration": 46,
    "start_time": "2024-11-17T02:16:12.809Z"
   },
   {
    "duration": 136,
    "start_time": "2024-11-17T02:20:49.129Z"
   },
   {
    "duration": 133,
    "start_time": "2024-11-17T02:21:37.322Z"
   },
   {
    "duration": 323,
    "start_time": "2024-11-17T21:10:40.916Z"
   },
   {
    "duration": 2575,
    "start_time": "2024-11-17T21:10:41.423Z"
   },
   {
    "duration": 21,
    "start_time": "2024-11-17T21:10:44.000Z"
   },
   {
    "duration": 19,
    "start_time": "2024-11-17T21:10:44.023Z"
   },
   {
    "duration": 7,
    "start_time": "2024-11-17T21:10:44.046Z"
   },
   {
    "duration": 8,
    "start_time": "2024-11-17T21:10:44.055Z"
   },
   {
    "duration": 7,
    "start_time": "2024-11-17T21:10:45.619Z"
   },
   {
    "duration": 971,
    "start_time": "2024-11-17T21:10:50.586Z"
   },
   {
    "duration": 33,
    "start_time": "2024-11-17T21:10:57.800Z"
   },
   {
    "duration": 282,
    "start_time": "2024-11-17T21:11:00.909Z"
   },
   {
    "duration": 28,
    "start_time": "2024-11-17T21:11:04.403Z"
   },
   {
    "duration": 259,
    "start_time": "2024-11-17T21:11:09.100Z"
   },
   {
    "duration": 10,
    "start_time": "2024-11-17T21:11:15.962Z"
   },
   {
    "duration": 82,
    "start_time": "2024-11-17T21:11:23.031Z"
   },
   {
    "duration": 169,
    "start_time": "2024-11-17T21:11:24.878Z"
   },
   {
    "duration": 25,
    "start_time": "2024-11-17T21:11:25.730Z"
   },
   {
    "duration": 63,
    "start_time": "2024-11-17T21:11:28.832Z"
   },
   {
    "duration": 4,
    "start_time": "2024-11-17T21:11:29.372Z"
   },
   {
    "duration": 24,
    "start_time": "2024-11-17T21:11:29.910Z"
   },
   {
    "duration": 10,
    "start_time": "2024-11-17T21:11:30.340Z"
   },
   {
    "duration": 3,
    "start_time": "2024-11-17T21:11:33.044Z"
   },
   {
    "duration": 4,
    "start_time": "2024-11-17T21:11:33.413Z"
   },
   {
    "duration": 5,
    "start_time": "2024-11-17T21:11:38.307Z"
   },
   {
    "duration": 4,
    "start_time": "2024-11-17T21:11:38.787Z"
   },
   {
    "duration": 881,
    "start_time": "2024-11-17T21:11:41.904Z"
   },
   {
    "duration": 7741,
    "start_time": "2024-11-17T21:11:43.687Z"
   },
   {
    "duration": 13,
    "start_time": "2024-11-17T21:11:51.430Z"
   },
   {
    "duration": 7,
    "start_time": "2024-11-17T21:11:51.445Z"
   },
   {
    "duration": 8,
    "start_time": "2024-11-17T21:11:53.997Z"
   },
   {
    "duration": 7,
    "start_time": "2024-11-17T21:11:57.707Z"
   },
   {
    "duration": 9,
    "start_time": "2024-11-17T21:12:01.127Z"
   },
   {
    "duration": 7,
    "start_time": "2024-11-17T21:12:04.498Z"
   },
   {
    "duration": 122,
    "start_time": "2024-11-17T21:12:07.800Z"
   },
   {
    "duration": 889,
    "start_time": "2024-11-17T21:12:10.035Z"
   },
   {
    "duration": 289,
    "start_time": "2024-11-17T21:12:15.034Z"
   },
   {
    "duration": 5,
    "start_time": "2024-11-17T21:12:33.961Z"
   },
   {
    "duration": 33,
    "start_time": "2024-11-17T21:12:58.835Z"
   },
   {
    "duration": 31,
    "start_time": "2024-11-17T21:13:11.828Z"
   },
   {
    "duration": 7,
    "start_time": "2024-11-17T21:21:11.459Z"
   },
   {
    "duration": 281,
    "start_time": "2024-11-17T21:21:17.224Z"
   },
   {
    "duration": 6,
    "start_time": "2024-11-17T21:21:21.632Z"
   },
   {
    "duration": 1981,
    "start_time": "2024-11-17T21:21:49.068Z"
   },
   {
    "duration": 670,
    "start_time": "2024-11-17T21:22:38.937Z"
   },
   {
    "duration": 137,
    "start_time": "2024-11-17T21:22:51.739Z"
   },
   {
    "duration": 22817,
    "start_time": "2024-11-17T21:23:22.390Z"
   },
   {
    "duration": 244,
    "start_time": "2024-11-17T21:25:26.272Z"
   },
   {
    "duration": 258,
    "start_time": "2024-11-17T21:25:30.110Z"
   },
   {
    "duration": 251,
    "start_time": "2024-11-17T21:25:35.042Z"
   },
   {
    "duration": 3328,
    "start_time": "2024-11-17T21:33:16.750Z"
   },
   {
    "duration": 160,
    "start_time": "2024-11-17T23:07:38.304Z"
   },
   {
    "duration": 269,
    "start_time": "2024-11-17T23:07:52.131Z"
   },
   {
    "duration": 2252,
    "start_time": "2024-11-17T23:07:54.140Z"
   },
   {
    "duration": 21,
    "start_time": "2024-11-17T23:07:56.394Z"
   },
   {
    "duration": 10,
    "start_time": "2024-11-17T23:07:58.053Z"
   },
   {
    "duration": 8,
    "start_time": "2024-11-17T23:07:58.727Z"
   },
   {
    "duration": 10,
    "start_time": "2024-11-17T23:07:59.329Z"
   },
   {
    "duration": 7,
    "start_time": "2024-11-17T23:07:59.743Z"
   },
   {
    "duration": 955,
    "start_time": "2024-11-17T23:08:03.319Z"
   },
   {
    "duration": 28,
    "start_time": "2024-11-17T23:08:14.101Z"
   },
   {
    "duration": 22,
    "start_time": "2024-11-17T23:08:16.156Z"
   },
   {
    "duration": 259,
    "start_time": "2024-11-17T23:08:21.111Z"
   },
   {
    "duration": 8,
    "start_time": "2024-11-17T23:08:25.441Z"
   },
   {
    "duration": 82,
    "start_time": "2024-11-17T23:08:28.869Z"
   },
   {
    "duration": 148,
    "start_time": "2024-11-17T23:08:54.977Z"
   },
   {
    "duration": 27,
    "start_time": "2024-11-17T23:08:55.705Z"
   },
   {
    "duration": 47,
    "start_time": "2024-11-17T23:08:58.605Z"
   },
   {
    "duration": 4,
    "start_time": "2024-11-17T23:09:00.070Z"
   },
   {
    "duration": 49,
    "start_time": "2024-11-17T23:09:10.242Z"
   },
   {
    "duration": 3,
    "start_time": "2024-11-17T23:09:12.196Z"
   },
   {
    "duration": 19,
    "start_time": "2024-11-17T23:09:14.063Z"
   },
   {
    "duration": 8,
    "start_time": "2024-11-17T23:09:16.002Z"
   },
   {
    "duration": 5,
    "start_time": "2024-11-17T23:09:18.614Z"
   },
   {
    "duration": 4,
    "start_time": "2024-11-17T23:09:20.078Z"
   },
   {
    "duration": 4,
    "start_time": "2024-11-17T23:09:22.469Z"
   },
   {
    "duration": 4,
    "start_time": "2024-11-17T23:09:23.770Z"
   },
   {
    "duration": 726,
    "start_time": "2024-11-17T23:09:25.815Z"
   },
   {
    "duration": 7492,
    "start_time": "2024-11-17T23:09:27.841Z"
   },
   {
    "duration": 9,
    "start_time": "2024-11-17T23:09:35.336Z"
   },
   {
    "duration": 5,
    "start_time": "2024-11-17T23:09:35.347Z"
   },
   {
    "duration": 7,
    "start_time": "2024-11-17T23:09:35.454Z"
   },
   {
    "duration": 7,
    "start_time": "2024-11-17T23:09:39.242Z"
   },
   {
    "duration": 7,
    "start_time": "2024-11-17T23:09:42.709Z"
   },
   {
    "duration": 6,
    "start_time": "2024-11-17T23:09:45.107Z"
   },
   {
    "duration": 130,
    "start_time": "2024-11-17T23:09:47.962Z"
   },
   {
    "duration": 284,
    "start_time": "2024-11-17T23:09:51.184Z"
   },
   {
    "duration": 30,
    "start_time": "2024-11-17T23:09:54.261Z"
   },
   {
    "duration": 7,
    "start_time": "2024-11-17T23:09:57.481Z"
   },
   {
    "duration": 2558,
    "start_time": "2024-11-17T23:10:01.965Z"
   },
   {
    "duration": 138,
    "start_time": "2024-11-17T23:10:04.525Z"
   },
   {
    "duration": 23482,
    "start_time": "2024-11-17T23:11:05.734Z"
   },
   {
    "duration": 265,
    "start_time": "2024-11-17T23:11:29.219Z"
   },
   {
    "duration": 249,
    "start_time": "2024-11-17T23:11:29.486Z"
   },
   {
    "duration": 195,
    "start_time": "2024-11-17T23:11:29.742Z"
   },
   {
    "duration": 198,
    "start_time": "2024-11-17T23:11:33.486Z"
   },
   {
    "duration": 586,
    "start_time": "2024-11-17T23:11:37.586Z"
   },
   {
    "duration": 3471,
    "start_time": "2024-11-17T23:11:41.723Z"
   },
   {
    "duration": 518,
    "start_time": "2024-11-17T23:11:50.412Z"
   },
   {
    "duration": 2670,
    "start_time": "2024-11-17T23:13:17.114Z"
   },
   {
    "duration": 2742,
    "start_time": "2024-11-17T23:13:43.493Z"
   },
   {
    "duration": 2671,
    "start_time": "2024-11-17T23:15:14.594Z"
   },
   {
    "duration": 828,
    "start_time": "2024-11-17T23:27:04.868Z"
   },
   {
    "duration": 31,
    "start_time": "2024-11-17T23:42:06.263Z"
   },
   {
    "duration": 14,
    "start_time": "2024-11-17T23:43:07.273Z"
   },
   {
    "duration": 44,
    "start_time": "2024-11-17T23:43:17.965Z"
   },
   {
    "duration": 29,
    "start_time": "2024-11-17T23:43:51.812Z"
   },
   {
    "duration": 8,
    "start_time": "2024-11-17T23:45:52.725Z"
   },
   {
    "duration": 29,
    "start_time": "2024-11-17T23:46:05.767Z"
   },
   {
    "duration": 326,
    "start_time": "2024-11-17T23:46:18.627Z"
   },
   {
    "duration": 39,
    "start_time": "2024-11-17T23:47:29.119Z"
   },
   {
    "duration": 33,
    "start_time": "2024-11-17T23:51:03.590Z"
   },
   {
    "duration": 48,
    "start_time": "2024-11-17T23:53:18.371Z"
   },
   {
    "duration": 48,
    "start_time": "2024-11-17T23:54:06.076Z"
   },
   {
    "duration": 4,
    "start_time": "2024-11-17T23:56:13.828Z"
   },
   {
    "duration": 4,
    "start_time": "2024-11-17T23:57:01.954Z"
   },
   {
    "duration": 6,
    "start_time": "2024-11-17T23:58:44.383Z"
   },
   {
    "duration": 985,
    "start_time": "2024-11-18T00:15:08.500Z"
   },
   {
    "duration": 1063,
    "start_time": "2024-11-18T00:15:57.836Z"
   },
   {
    "duration": 5,
    "start_time": "2024-11-18T00:16:51.497Z"
   },
   {
    "duration": 5,
    "start_time": "2024-11-18T00:17:35.445Z"
   },
   {
    "duration": 5,
    "start_time": "2024-11-18T00:18:36.350Z"
   },
   {
    "duration": 3,
    "start_time": "2024-11-18T00:20:38.894Z"
   },
   {
    "duration": 4,
    "start_time": "2024-11-18T00:30:01.162Z"
   },
   {
    "duration": 162,
    "start_time": "2024-11-18T00:45:44.938Z"
   },
   {
    "duration": 94,
    "start_time": "2024-11-18T00:47:58.602Z"
   },
   {
    "duration": 6084,
    "start_time": "2024-11-18T00:48:38.975Z"
   },
   {
    "duration": 10,
    "start_time": "2024-11-18T00:48:52.365Z"
   },
   {
    "duration": 6,
    "start_time": "2024-11-18T00:48:59.461Z"
   },
   {
    "duration": 707,
    "start_time": "2024-11-18T00:54:47.615Z"
   },
   {
    "duration": 5,
    "start_time": "2024-11-18T00:54:54.446Z"
   },
   {
    "duration": 3,
    "start_time": "2024-11-18T00:54:56.792Z"
   },
   {
    "duration": 8,
    "start_time": "2024-11-18T00:56:44.588Z"
   },
   {
    "duration": 5720,
    "start_time": "2024-11-18T01:07:56.238Z"
   },
   {
    "duration": 11,
    "start_time": "2024-11-18T01:08:28.095Z"
   },
   {
    "duration": 54,
    "start_time": "2024-11-18T01:09:42.328Z"
   },
   {
    "duration": 5,
    "start_time": "2024-11-18T01:31:23.346Z"
   },
   {
    "duration": 500,
    "start_time": "2024-11-18T01:39:53.260Z"
   },
   {
    "duration": 923,
    "start_time": "2024-11-18T01:40:23.200Z"
   },
   {
    "duration": 6,
    "start_time": "2024-11-18T01:57:32.514Z"
   },
   {
    "duration": 5,
    "start_time": "2024-11-18T01:57:59.837Z"
   },
   {
    "duration": 8,
    "start_time": "2024-11-18T01:59:30.314Z"
   },
   {
    "duration": 5,
    "start_time": "2024-11-18T02:01:15.498Z"
   },
   {
    "duration": 24,
    "start_time": "2024-11-18T02:02:35.457Z"
   },
   {
    "duration": 25,
    "start_time": "2024-11-18T02:02:47.580Z"
   },
   {
    "duration": 6,
    "start_time": "2024-11-18T02:06:35.817Z"
   },
   {
    "duration": 386,
    "start_time": "2024-11-18T02:06:46.933Z"
   },
   {
    "duration": 369,
    "start_time": "2024-11-18T02:08:15.582Z"
   },
   {
    "duration": 382,
    "start_time": "2024-11-18T02:08:49.678Z"
   },
   {
    "duration": 1345,
    "start_time": "2024-11-18T02:09:28.845Z"
   },
   {
    "duration": 64,
    "start_time": "2024-11-18T02:10:16.178Z"
   },
   {
    "duration": 280,
    "start_time": "2024-11-18T21:15:25.934Z"
   },
   {
    "duration": 2269,
    "start_time": "2024-11-18T21:15:26.216Z"
   },
   {
    "duration": 21,
    "start_time": "2024-11-18T21:15:28.487Z"
   },
   {
    "duration": 9,
    "start_time": "2024-11-18T21:15:28.511Z"
   },
   {
    "duration": 28,
    "start_time": "2024-11-18T21:15:28.521Z"
   },
   {
    "duration": 9,
    "start_time": "2024-11-18T21:15:28.551Z"
   },
   {
    "duration": 7,
    "start_time": "2024-11-18T21:15:28.561Z"
   },
   {
    "duration": 1014,
    "start_time": "2024-11-18T21:15:28.570Z"
   },
   {
    "duration": 26,
    "start_time": "2024-11-18T21:15:29.586Z"
   },
   {
    "duration": 27,
    "start_time": "2024-11-18T21:15:29.616Z"
   },
   {
    "duration": 267,
    "start_time": "2024-11-18T21:15:29.645Z"
   },
   {
    "duration": 7,
    "start_time": "2024-11-18T21:15:29.915Z"
   },
   {
    "duration": 95,
    "start_time": "2024-11-18T21:15:29.924Z"
   },
   {
    "duration": 152,
    "start_time": "2024-11-18T21:15:30.021Z"
   },
   {
    "duration": 24,
    "start_time": "2024-11-18T21:15:30.175Z"
   },
   {
    "duration": 59,
    "start_time": "2024-11-18T21:15:30.201Z"
   },
   {
    "duration": 4,
    "start_time": "2024-11-18T21:15:30.262Z"
   },
   {
    "duration": 28,
    "start_time": "2024-11-18T21:15:30.268Z"
   },
   {
    "duration": 11,
    "start_time": "2024-11-18T21:15:30.298Z"
   },
   {
    "duration": 3,
    "start_time": "2024-11-18T21:15:30.311Z"
   },
   {
    "duration": 27,
    "start_time": "2024-11-18T21:15:30.316Z"
   },
   {
    "duration": 4,
    "start_time": "2024-11-18T21:15:30.345Z"
   },
   {
    "duration": 4,
    "start_time": "2024-11-18T21:15:30.350Z"
   },
   {
    "duration": 3,
    "start_time": "2024-11-18T21:15:30.356Z"
   },
   {
    "duration": 0,
    "start_time": "2024-11-18T21:15:30.362Z"
   },
   {
    "duration": 0,
    "start_time": "2024-11-18T21:15:30.363Z"
   },
   {
    "duration": 0,
    "start_time": "2024-11-18T21:15:30.364Z"
   },
   {
    "duration": 0,
    "start_time": "2024-11-18T21:15:30.366Z"
   },
   {
    "duration": 0,
    "start_time": "2024-11-18T21:15:30.367Z"
   },
   {
    "duration": 0,
    "start_time": "2024-11-18T21:15:30.368Z"
   },
   {
    "duration": 0,
    "start_time": "2024-11-18T21:15:30.369Z"
   },
   {
    "duration": 0,
    "start_time": "2024-11-18T21:15:30.369Z"
   },
   {
    "duration": 0,
    "start_time": "2024-11-18T21:15:30.370Z"
   },
   {
    "duration": 0,
    "start_time": "2024-11-18T21:15:30.373Z"
   },
   {
    "duration": 0,
    "start_time": "2024-11-18T21:15:30.375Z"
   },
   {
    "duration": 0,
    "start_time": "2024-11-18T21:15:30.376Z"
   },
   {
    "duration": 0,
    "start_time": "2024-11-18T21:15:30.377Z"
   },
   {
    "duration": 0,
    "start_time": "2024-11-18T21:15:30.378Z"
   },
   {
    "duration": 0,
    "start_time": "2024-11-18T21:15:30.379Z"
   },
   {
    "duration": 0,
    "start_time": "2024-11-18T21:15:30.380Z"
   },
   {
    "duration": 0,
    "start_time": "2024-11-18T21:15:30.382Z"
   },
   {
    "duration": 0,
    "start_time": "2024-11-18T21:15:30.384Z"
   },
   {
    "duration": 0,
    "start_time": "2024-11-18T21:15:30.385Z"
   },
   {
    "duration": 0,
    "start_time": "2024-11-18T21:15:30.386Z"
   },
   {
    "duration": 0,
    "start_time": "2024-11-18T21:15:30.387Z"
   },
   {
    "duration": 0,
    "start_time": "2024-11-18T21:15:30.388Z"
   },
   {
    "duration": 0,
    "start_time": "2024-11-18T21:15:30.389Z"
   },
   {
    "duration": 0,
    "start_time": "2024-11-18T21:15:30.443Z"
   },
   {
    "duration": 0,
    "start_time": "2024-11-18T21:15:30.444Z"
   },
   {
    "duration": 0,
    "start_time": "2024-11-18T21:15:30.446Z"
   },
   {
    "duration": 0,
    "start_time": "2024-11-18T21:15:30.447Z"
   },
   {
    "duration": 0,
    "start_time": "2024-11-18T21:15:30.449Z"
   },
   {
    "duration": 0,
    "start_time": "2024-11-18T21:15:30.450Z"
   },
   {
    "duration": 0,
    "start_time": "2024-11-18T21:15:30.452Z"
   },
   {
    "duration": 0,
    "start_time": "2024-11-18T21:15:30.454Z"
   },
   {
    "duration": 0,
    "start_time": "2024-11-18T21:15:30.455Z"
   },
   {
    "duration": 3,
    "start_time": "2024-11-18T21:15:59.796Z"
   },
   {
    "duration": 2276,
    "start_time": "2024-11-18T21:15:59.803Z"
   },
   {
    "duration": 21,
    "start_time": "2024-11-18T21:16:02.081Z"
   },
   {
    "duration": 15,
    "start_time": "2024-11-18T21:16:02.103Z"
   },
   {
    "duration": 7,
    "start_time": "2024-11-18T21:16:02.120Z"
   },
   {
    "duration": 10,
    "start_time": "2024-11-18T21:16:02.143Z"
   },
   {
    "duration": 10,
    "start_time": "2024-11-18T21:16:02.155Z"
   },
   {
    "duration": 974,
    "start_time": "2024-11-18T21:16:02.167Z"
   },
   {
    "duration": 27,
    "start_time": "2024-11-18T21:16:03.142Z"
   },
   {
    "duration": 23,
    "start_time": "2024-11-18T21:16:03.171Z"
   },
   {
    "duration": 272,
    "start_time": "2024-11-18T21:16:03.198Z"
   },
   {
    "duration": 7,
    "start_time": "2024-11-18T21:16:03.471Z"
   },
   {
    "duration": 93,
    "start_time": "2024-11-18T21:16:03.480Z"
   },
   {
    "duration": 158,
    "start_time": "2024-11-18T21:16:03.575Z"
   },
   {
    "duration": 26,
    "start_time": "2024-11-18T21:16:03.735Z"
   },
   {
    "duration": 52,
    "start_time": "2024-11-18T21:16:03.763Z"
   },
   {
    "duration": 3,
    "start_time": "2024-11-18T21:16:03.817Z"
   },
   {
    "duration": 22,
    "start_time": "2024-11-18T21:16:03.843Z"
   },
   {
    "duration": 10,
    "start_time": "2024-11-18T21:16:03.867Z"
   },
   {
    "duration": 4,
    "start_time": "2024-11-18T21:16:03.878Z"
   },
   {
    "duration": 4,
    "start_time": "2024-11-18T21:16:03.884Z"
   },
   {
    "duration": 5,
    "start_time": "2024-11-18T21:16:03.889Z"
   },
   {
    "duration": 3,
    "start_time": "2024-11-18T21:16:03.896Z"
   },
   {
    "duration": 744,
    "start_time": "2024-11-18T21:16:03.901Z"
   },
   {
    "duration": 7568,
    "start_time": "2024-11-18T21:16:04.646Z"
   },
   {
    "duration": 6,
    "start_time": "2024-11-18T21:16:12.216Z"
   },
   {
    "duration": 6,
    "start_time": "2024-11-18T21:16:12.224Z"
   },
   {
    "duration": 7,
    "start_time": "2024-11-18T21:16:12.242Z"
   },
   {
    "duration": 6,
    "start_time": "2024-11-18T21:16:12.254Z"
   },
   {
    "duration": 8,
    "start_time": "2024-11-18T21:16:12.262Z"
   },
   {
    "duration": 7,
    "start_time": "2024-11-18T21:16:12.271Z"
   },
   {
    "duration": 147,
    "start_time": "2024-11-18T21:16:12.279Z"
   },
   {
    "duration": 1458,
    "start_time": "2024-11-18T21:16:12.428Z"
   },
   {
    "duration": 59,
    "start_time": "2024-11-18T21:16:13.888Z"
   },
   {
    "duration": 46,
    "start_time": "2024-11-18T21:16:13.948Z"
   },
   {
    "duration": 5,
    "start_time": "2024-11-18T21:16:13.996Z"
   },
   {
    "duration": 76,
    "start_time": "2024-11-18T21:16:14.002Z"
   },
   {
    "duration": 7,
    "start_time": "2024-11-18T21:16:14.080Z"
   },
   {
    "duration": 888,
    "start_time": "2024-11-18T21:16:14.089Z"
   },
   {
    "duration": 147,
    "start_time": "2024-11-18T21:16:14.979Z"
   },
   {
    "duration": 24137,
    "start_time": "2024-11-18T21:16:15.129Z"
   },
   {
    "duration": 249,
    "start_time": "2024-11-18T21:16:39.267Z"
   },
   {
    "duration": 252,
    "start_time": "2024-11-18T21:16:39.518Z"
   },
   {
    "duration": 204,
    "start_time": "2024-11-18T21:16:39.772Z"
   },
   {
    "duration": 496,
    "start_time": "2024-11-18T21:16:39.978Z"
   },
   {
    "duration": 2111,
    "start_time": "2024-11-18T21:16:40.476Z"
   },
   {
    "duration": 4861,
    "start_time": "2024-11-18T21:16:42.589Z"
   },
   {
    "duration": 828,
    "start_time": "2024-11-18T21:16:47.451Z"
   },
   {
    "duration": 4,
    "start_time": "2024-11-18T21:16:48.281Z"
   },
   {
    "duration": 5,
    "start_time": "2024-11-18T21:16:48.287Z"
   },
   {
    "duration": 8,
    "start_time": "2024-11-18T21:38:46.321Z"
   },
   {
    "duration": 165,
    "start_time": "2024-11-18T22:10:11.840Z"
   },
   {
    "duration": 0,
    "start_time": "2024-11-18T22:10:12.006Z"
   },
   {
    "duration": 13,
    "start_time": "2024-11-18T22:10:12.143Z"
   },
   {
    "duration": 13,
    "start_time": "2024-11-18T22:10:12.544Z"
   },
   {
    "duration": 17,
    "start_time": "2024-11-18T22:10:15.215Z"
   },
   {
    "duration": 14,
    "start_time": "2024-11-18T22:10:53.726Z"
   },
   {
    "duration": 403,
    "start_time": "2024-11-18T22:10:58.120Z"
   },
   {
    "duration": 2360,
    "start_time": "2024-11-18T22:10:58.526Z"
   },
   {
    "duration": 22,
    "start_time": "2024-11-18T22:11:00.888Z"
   },
   {
    "duration": 9,
    "start_time": "2024-11-18T22:11:00.911Z"
   },
   {
    "duration": 23,
    "start_time": "2024-11-18T22:11:00.922Z"
   },
   {
    "duration": 9,
    "start_time": "2024-11-18T22:11:00.949Z"
   },
   {
    "duration": 6,
    "start_time": "2024-11-18T22:11:00.960Z"
   },
   {
    "duration": 983,
    "start_time": "2024-11-18T22:11:00.968Z"
   },
   {
    "duration": 31,
    "start_time": "2024-11-18T22:11:01.954Z"
   },
   {
    "duration": 22,
    "start_time": "2024-11-18T22:11:01.986Z"
   },
   {
    "duration": 282,
    "start_time": "2024-11-18T22:11:02.010Z"
   },
   {
    "duration": 8,
    "start_time": "2024-11-18T22:11:02.294Z"
   },
   {
    "duration": 90,
    "start_time": "2024-11-18T22:11:02.304Z"
   },
   {
    "duration": 172,
    "start_time": "2024-11-18T22:11:02.397Z"
   },
   {
    "duration": 32,
    "start_time": "2024-11-18T22:11:02.571Z"
   },
   {
    "duration": 63,
    "start_time": "2024-11-18T22:11:02.605Z"
   },
   {
    "duration": 4,
    "start_time": "2024-11-18T22:11:02.670Z"
   },
   {
    "duration": 20,
    "start_time": "2024-11-18T22:11:02.675Z"
   },
   {
    "duration": 8,
    "start_time": "2024-11-18T22:11:02.696Z"
   },
   {
    "duration": 3,
    "start_time": "2024-11-18T22:11:02.707Z"
   },
   {
    "duration": 32,
    "start_time": "2024-11-18T22:11:02.711Z"
   },
   {
    "duration": 4,
    "start_time": "2024-11-18T22:11:02.745Z"
   },
   {
    "duration": 4,
    "start_time": "2024-11-18T22:11:02.751Z"
   },
   {
    "duration": 844,
    "start_time": "2024-11-18T22:11:02.757Z"
   },
   {
    "duration": 7794,
    "start_time": "2024-11-18T22:11:03.603Z"
   },
   {
    "duration": 7,
    "start_time": "2024-11-18T22:11:11.399Z"
   },
   {
    "duration": 59,
    "start_time": "2024-11-18T22:11:11.409Z"
   },
   {
    "duration": 5,
    "start_time": "2024-11-18T22:11:11.471Z"
   },
   {
    "duration": 6,
    "start_time": "2024-11-18T22:11:11.478Z"
   },
   {
    "duration": 9,
    "start_time": "2024-11-18T22:11:11.486Z"
   },
   {
    "duration": 6,
    "start_time": "2024-11-18T22:11:11.497Z"
   },
   {
    "duration": 152,
    "start_time": "2024-11-18T22:11:11.505Z"
   },
   {
    "duration": 1507,
    "start_time": "2024-11-18T22:11:11.660Z"
   },
   {
    "duration": 51,
    "start_time": "2024-11-18T22:11:13.168Z"
   },
   {
    "duration": 56,
    "start_time": "2024-11-18T22:11:13.221Z"
   },
   {
    "duration": 5,
    "start_time": "2024-11-18T22:11:13.279Z"
   },
   {
    "duration": 35,
    "start_time": "2024-11-18T22:11:13.285Z"
   },
   {
    "duration": 25,
    "start_time": "2024-11-18T22:11:13.322Z"
   },
   {
    "duration": 914,
    "start_time": "2024-11-18T22:11:13.349Z"
   },
   {
    "duration": 148,
    "start_time": "2024-11-18T22:11:14.267Z"
   },
   {
    "duration": 24070,
    "start_time": "2024-11-18T22:11:14.421Z"
   },
   {
    "duration": 251,
    "start_time": "2024-11-18T22:11:38.493Z"
   },
   {
    "duration": 262,
    "start_time": "2024-11-18T22:11:38.746Z"
   },
   {
    "duration": 208,
    "start_time": "2024-11-18T22:11:39.010Z"
   },
   {
    "duration": 532,
    "start_time": "2024-11-18T22:11:39.220Z"
   },
   {
    "duration": 2168,
    "start_time": "2024-11-18T22:11:39.754Z"
   },
   {
    "duration": 5054,
    "start_time": "2024-11-18T22:11:41.924Z"
   },
   {
    "duration": 911,
    "start_time": "2024-11-18T22:11:46.979Z"
   },
   {
    "duration": 5,
    "start_time": "2024-11-18T22:11:47.892Z"
   },
   {
    "duration": 6,
    "start_time": "2024-11-18T22:11:47.898Z"
   },
   {
    "duration": 8,
    "start_time": "2024-11-18T22:12:01.517Z"
   }
  ],
  "colab": {
   "provenance": []
  },
  "kernelspec": {
   "display_name": "Python 3 (ipykernel)",
   "language": "python",
   "name": "python3"
  },
  "language_info": {
   "codemirror_mode": {
    "name": "ipython",
    "version": 3
   },
   "file_extension": ".py",
   "mimetype": "text/x-python",
   "name": "python",
   "nbconvert_exporter": "python",
   "pygments_lexer": "ipython3",
   "version": "3.9.19"
  },
  "toc": {
   "base_numbering": 1,
   "nav_menu": {},
   "number_sections": true,
   "sideBar": true,
   "skip_h1_title": true,
   "title_cell": "Table of Contents",
   "title_sidebar": "Contents",
   "toc_cell": false,
   "toc_position": {},
   "toc_section_display": true,
   "toc_window_display": false
  },
  "vscode": {
   "interpreter": {
    "hash": "01a7be9ec63e704a62cefc5fe7a4756944464ee731be31632bdf42a4cb4688cf"
   }
  }
 },
 "nbformat": 4,
 "nbformat_minor": 5
}
